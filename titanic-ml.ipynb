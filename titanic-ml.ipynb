{
 "cells": [
  {
   "cell_type": "code",
   "execution_count": 1,
   "id": "141b4f91",
   "metadata": {
    "_cell_guid": "b1076dfc-b9ad-4769-8c92-a6c4dae69d19",
    "_uuid": "8f2839f25d086af736a60e9eeb907d3b93b6e0e5",
    "execution": {
     "iopub.execute_input": "2022-06-30T21:12:30.037036Z",
     "iopub.status.busy": "2022-06-30T21:12:30.036517Z",
     "iopub.status.idle": "2022-06-30T21:12:30.049643Z",
     "shell.execute_reply": "2022-06-30T21:12:30.048662Z"
    },
    "papermill": {
     "duration": 0.020037,
     "end_time": "2022-06-30T21:12:30.051949",
     "exception": false,
     "start_time": "2022-06-30T21:12:30.031912",
     "status": "completed"
    },
    "tags": []
   },
   "outputs": [
    {
     "name": "stdout",
     "output_type": "stream",
     "text": [
      "/kaggle/input/titanic/train.csv\n",
      "/kaggle/input/titanic/test.csv\n",
      "/kaggle/input/titanic/gender_submission.csv\n"
     ]
    }
   ],
   "source": [
    "# This Python 3 environment comes with many helpful analytics libraries installed\n",
    "# It is defined by the kaggle/python Docker image: https://github.com/kaggle/docker-python\n",
    "# For example, here's several helpful packages to load\n",
    "\n",
    "import numpy as np # linear algebra\n",
    "import pandas as pd # data processing, CSV file I/O (e.g. pd.read_csv)\n",
    "\n",
    "# Input data files are available in the read-only \"../input/\" directory\n",
    "# For example, running this (by clicking run or pressing Shift+Enter) will list all files under the input directory\n",
    "\n",
    "import os\n",
    "for dirname, _, filenames in os.walk('/kaggle/input'):\n",
    "    for filename in filenames:\n",
    "        print(os.path.join(dirname, filename))\n",
    "\n",
    "# You can write up to 20GB to the current directory (/kaggle/working/) that gets preserved as output when you create a version using \"Save & Run All\" \n",
    "# You can also write temporary files to /kaggle/temp/, but they won't be saved outside of the current session"
   ]
  },
  {
   "cell_type": "code",
   "execution_count": 2,
   "id": "2ec9d0fd",
   "metadata": {
    "execution": {
     "iopub.execute_input": "2022-06-30T21:12:30.057184Z",
     "iopub.status.busy": "2022-06-30T21:12:30.056673Z",
     "iopub.status.idle": "2022-06-30T21:12:30.086374Z",
     "shell.execute_reply": "2022-06-30T21:12:30.085361Z"
    },
    "papermill": {
     "duration": 0.034656,
     "end_time": "2022-06-30T21:12:30.088715",
     "exception": false,
     "start_time": "2022-06-30T21:12:30.054059",
     "status": "completed"
    },
    "tags": []
   },
   "outputs": [],
   "source": [
    "train_data = pd.read_csv(\"/kaggle/input/titanic/train.csv\")\n",
    "test_data = pd.read_csv(\"/kaggle/input/titanic/test.csv\")"
   ]
  },
  {
   "cell_type": "code",
   "execution_count": 3,
   "id": "dbb3d73b",
   "metadata": {
    "execution": {
     "iopub.execute_input": "2022-06-30T21:12:30.094386Z",
     "iopub.status.busy": "2022-06-30T21:12:30.093686Z",
     "iopub.status.idle": "2022-06-30T21:12:30.109117Z",
     "shell.execute_reply": "2022-06-30T21:12:30.107432Z"
    },
    "papermill": {
     "duration": 0.020422,
     "end_time": "2022-06-30T21:12:30.111238",
     "exception": false,
     "start_time": "2022-06-30T21:12:30.090816",
     "status": "completed"
    },
    "tags": []
   },
   "outputs": [
    {
     "name": "stdout",
     "output_type": "stream",
     "text": [
      "% of women who survived: 0.7420382165605095\n",
      "% of men who survived: 0.18890814558058924\n"
     ]
    }
   ],
   "source": [
    "women = train_data.loc[train_data.Sex == 'female'][\"Survived\"]\n",
    "rate_women = sum(women)/len(women)\n",
    "\n",
    "men = train_data.loc[train_data.Sex == 'male'][\"Survived\"]\n",
    "rate_men = sum(men)/len(men)\n",
    "\n",
    "print(\"% of women who survived:\", rate_women)\n",
    "print(\"% of men who survived:\", rate_men)"
   ]
  },
  {
   "cell_type": "code",
   "execution_count": 4,
   "id": "6932c4d2",
   "metadata": {
    "execution": {
     "iopub.execute_input": "2022-06-30T21:12:30.117073Z",
     "iopub.status.busy": "2022-06-30T21:12:30.116246Z",
     "iopub.status.idle": "2022-06-30T21:12:31.752343Z",
     "shell.execute_reply": "2022-06-30T21:12:31.751027Z"
    },
    "papermill": {
     "duration": 1.641867,
     "end_time": "2022-06-30T21:12:31.755141",
     "exception": false,
     "start_time": "2022-06-30T21:12:30.113274",
     "status": "completed"
    },
    "tags": []
   },
   "outputs": [
    {
     "name": "stdout",
     "output_type": "stream",
     "text": [
      "Your submission was successfully saved!\n"
     ]
    }
   ],
   "source": [
    "from sklearn.ensemble import RandomForestClassifier\n",
    "\n",
    "y = train_data[\"Survived\"]\n",
    "\n",
    "features = [\"Pclass\", \"Sex\", \"SibSp\", \"Parch\"]\n",
    "X = pd.get_dummies(train_data[features])\n",
    "X_test = pd.get_dummies(test_data[features])\n",
    "\n",
    "model = RandomForestClassifier(n_estimators=100, max_depth=5, random_state=1)\n",
    "model.fit(X, y)\n",
    "predictions = model.predict(X_test)\n",
    "\n",
    "output = pd.DataFrame({'PassengerId': test_data.PassengerId, 'Survived': predictions})\n",
    "output.to_csv('submission.csv', index=False)\n",
    "print(\"Your submission was successfully saved!\")"
   ]
  },
  {
   "cell_type": "code",
   "execution_count": null,
   "id": "5d15bd60",
   "metadata": {
    "papermill": {
     "duration": 0.001876,
     "end_time": "2022-06-30T21:12:31.759687",
     "exception": false,
     "start_time": "2022-06-30T21:12:31.757811",
     "status": "completed"
    },
    "tags": []
   },
   "outputs": [],
   "source": []
  }
 ],
 "metadata": {
  "kernelspec": {
   "display_name": "Python 3",
   "language": "python",
   "name": "python3"
  },
  "language_info": {
   "codemirror_mode": {
    "name": "ipython",
    "version": 3
   },
   "file_extension": ".py",
   "mimetype": "text/x-python",
   "name": "python",
   "nbconvert_exporter": "python",
   "pygments_lexer": "ipython3",
   "version": "3.7.12"
  },
  "papermill": {
   "default_parameters": {},
   "duration": 11.249956,
   "end_time": "2022-06-30T21:12:32.482237",
   "environment_variables": {},
   "exception": null,
   "input_path": "__notebook__.ipynb",
   "output_path": "__notebook__.ipynb",
   "parameters": {},
   "start_time": "2022-06-30T21:12:21.232281",
   "version": "2.3.4"
  }
 },
 "nbformat": 4,
 "nbformat_minor": 5
}
