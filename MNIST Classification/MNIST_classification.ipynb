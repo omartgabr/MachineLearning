{
  "nbformat": 4,
  "nbformat_minor": 0,
  "metadata": {
    "colab": {
      "provenance": []
    },
    "kernelspec": {
      "name": "python3",
      "display_name": "Python 3"
    },
    "language_info": {
      "name": "python"
    }
  },
  "cells": [
    {
      "cell_type": "markdown",
      "source": [
        "# <center> **Project 2** <center/>\n",
        "\n",
        "<center>\n",
        "Author: Omar Gabr <br>\n",
        "Digit of Interest: $2$\n",
        "<center/>"
      ],
      "metadata": {
        "id": "jZohJqHzl1vR"
      }
    },
    {
      "cell_type": "markdown",
      "source": [
        "# <center> **Pre-Loading Data**  <center/>"
      ],
      "metadata": {
        "id": "uaI5MR1xIvWC"
      }
    },
    {
      "cell_type": "markdown",
      "source": [
        "### Import Dataset\n"
      ],
      "metadata": {
        "id": "G7VK02c_F5QQ"
      }
    },
    {
      "cell_type": "code",
      "execution_count": null,
      "metadata": {
        "id": "lCiU6odfh838",
        "colab": {
          "base_uri": "https://localhost:8080/",
          "height": 107
        },
        "outputId": "b025ad52-b631-4608-d80d-81bc3fc57322"
      },
      "outputs": [
        {
          "output_type": "display_data",
          "data": {
            "text/plain": [
              "<IPython.core.display.HTML object>"
            ],
            "text/html": [
              "\n",
              "     <input type=\"file\" id=\"files-22a877d8-e37b-476d-adb0-a61f8acbf8f7\" name=\"files[]\" multiple disabled\n",
              "        style=\"border:none\" />\n",
              "     <output id=\"result-22a877d8-e37b-476d-adb0-a61f8acbf8f7\">\n",
              "      Upload widget is only available when the cell has been executed in the\n",
              "      current browser session. Please rerun this cell to enable.\n",
              "      </output>\n",
              "      <script>// Copyright 2017 Google LLC\n",
              "//\n",
              "// Licensed under the Apache License, Version 2.0 (the \"License\");\n",
              "// you may not use this file except in compliance with the License.\n",
              "// You may obtain a copy of the License at\n",
              "//\n",
              "//      http://www.apache.org/licenses/LICENSE-2.0\n",
              "//\n",
              "// Unless required by applicable law or agreed to in writing, software\n",
              "// distributed under the License is distributed on an \"AS IS\" BASIS,\n",
              "// WITHOUT WARRANTIES OR CONDITIONS OF ANY KIND, either express or implied.\n",
              "// See the License for the specific language governing permissions and\n",
              "// limitations under the License.\n",
              "\n",
              "/**\n",
              " * @fileoverview Helpers for google.colab Python module.\n",
              " */\n",
              "(function(scope) {\n",
              "function span(text, styleAttributes = {}) {\n",
              "  const element = document.createElement('span');\n",
              "  element.textContent = text;\n",
              "  for (const key of Object.keys(styleAttributes)) {\n",
              "    element.style[key] = styleAttributes[key];\n",
              "  }\n",
              "  return element;\n",
              "}\n",
              "\n",
              "// Max number of bytes which will be uploaded at a time.\n",
              "const MAX_PAYLOAD_SIZE = 100 * 1024;\n",
              "\n",
              "function _uploadFiles(inputId, outputId) {\n",
              "  const steps = uploadFilesStep(inputId, outputId);\n",
              "  const outputElement = document.getElementById(outputId);\n",
              "  // Cache steps on the outputElement to make it available for the next call\n",
              "  // to uploadFilesContinue from Python.\n",
              "  outputElement.steps = steps;\n",
              "\n",
              "  return _uploadFilesContinue(outputId);\n",
              "}\n",
              "\n",
              "// This is roughly an async generator (not supported in the browser yet),\n",
              "// where there are multiple asynchronous steps and the Python side is going\n",
              "// to poll for completion of each step.\n",
              "// This uses a Promise to block the python side on completion of each step,\n",
              "// then passes the result of the previous step as the input to the next step.\n",
              "function _uploadFilesContinue(outputId) {\n",
              "  const outputElement = document.getElementById(outputId);\n",
              "  const steps = outputElement.steps;\n",
              "\n",
              "  const next = steps.next(outputElement.lastPromiseValue);\n",
              "  return Promise.resolve(next.value.promise).then((value) => {\n",
              "    // Cache the last promise value to make it available to the next\n",
              "    // step of the generator.\n",
              "    outputElement.lastPromiseValue = value;\n",
              "    return next.value.response;\n",
              "  });\n",
              "}\n",
              "\n",
              "/**\n",
              " * Generator function which is called between each async step of the upload\n",
              " * process.\n",
              " * @param {string} inputId Element ID of the input file picker element.\n",
              " * @param {string} outputId Element ID of the output display.\n",
              " * @return {!Iterable<!Object>} Iterable of next steps.\n",
              " */\n",
              "function* uploadFilesStep(inputId, outputId) {\n",
              "  const inputElement = document.getElementById(inputId);\n",
              "  inputElement.disabled = false;\n",
              "\n",
              "  const outputElement = document.getElementById(outputId);\n",
              "  outputElement.innerHTML = '';\n",
              "\n",
              "  const pickedPromise = new Promise((resolve) => {\n",
              "    inputElement.addEventListener('change', (e) => {\n",
              "      resolve(e.target.files);\n",
              "    });\n",
              "  });\n",
              "\n",
              "  const cancel = document.createElement('button');\n",
              "  inputElement.parentElement.appendChild(cancel);\n",
              "  cancel.textContent = 'Cancel upload';\n",
              "  const cancelPromise = new Promise((resolve) => {\n",
              "    cancel.onclick = () => {\n",
              "      resolve(null);\n",
              "    };\n",
              "  });\n",
              "\n",
              "  // Wait for the user to pick the files.\n",
              "  const files = yield {\n",
              "    promise: Promise.race([pickedPromise, cancelPromise]),\n",
              "    response: {\n",
              "      action: 'starting',\n",
              "    }\n",
              "  };\n",
              "\n",
              "  cancel.remove();\n",
              "\n",
              "  // Disable the input element since further picks are not allowed.\n",
              "  inputElement.disabled = true;\n",
              "\n",
              "  if (!files) {\n",
              "    return {\n",
              "      response: {\n",
              "        action: 'complete',\n",
              "      }\n",
              "    };\n",
              "  }\n",
              "\n",
              "  for (const file of files) {\n",
              "    const li = document.createElement('li');\n",
              "    li.append(span(file.name, {fontWeight: 'bold'}));\n",
              "    li.append(span(\n",
              "        `(${file.type || 'n/a'}) - ${file.size} bytes, ` +\n",
              "        `last modified: ${\n",
              "            file.lastModifiedDate ? file.lastModifiedDate.toLocaleDateString() :\n",
              "                                    'n/a'} - `));\n",
              "    const percent = span('0% done');\n",
              "    li.appendChild(percent);\n",
              "\n",
              "    outputElement.appendChild(li);\n",
              "\n",
              "    const fileDataPromise = new Promise((resolve) => {\n",
              "      const reader = new FileReader();\n",
              "      reader.onload = (e) => {\n",
              "        resolve(e.target.result);\n",
              "      };\n",
              "      reader.readAsArrayBuffer(file);\n",
              "    });\n",
              "    // Wait for the data to be ready.\n",
              "    let fileData = yield {\n",
              "      promise: fileDataPromise,\n",
              "      response: {\n",
              "        action: 'continue',\n",
              "      }\n",
              "    };\n",
              "\n",
              "    // Use a chunked sending to avoid message size limits. See b/62115660.\n",
              "    let position = 0;\n",
              "    do {\n",
              "      const length = Math.min(fileData.byteLength - position, MAX_PAYLOAD_SIZE);\n",
              "      const chunk = new Uint8Array(fileData, position, length);\n",
              "      position += length;\n",
              "\n",
              "      const base64 = btoa(String.fromCharCode.apply(null, chunk));\n",
              "      yield {\n",
              "        response: {\n",
              "          action: 'append',\n",
              "          file: file.name,\n",
              "          data: base64,\n",
              "        },\n",
              "      };\n",
              "\n",
              "      let percentDone = fileData.byteLength === 0 ?\n",
              "          100 :\n",
              "          Math.round((position / fileData.byteLength) * 100);\n",
              "      percent.textContent = `${percentDone}% done`;\n",
              "\n",
              "    } while (position < fileData.byteLength);\n",
              "  }\n",
              "\n",
              "  // All done.\n",
              "  yield {\n",
              "    response: {\n",
              "      action: 'complete',\n",
              "    }\n",
              "  };\n",
              "}\n",
              "\n",
              "scope.google = scope.google || {};\n",
              "scope.google.colab = scope.google.colab || {};\n",
              "scope.google.colab._files = {\n",
              "  _uploadFiles,\n",
              "  _uploadFilesContinue,\n",
              "};\n",
              "})(self);\n",
              "</script> "
            ]
          },
          "metadata": {}
        },
        {
          "output_type": "stream",
          "name": "stdout",
          "text": [
            "Saving train-images.idx3-ubyte to train-images.idx3-ubyte\n",
            "Saving train-labels.idx1-ubyte to train-labels.idx1-ubyte\n"
          ]
        }
      ],
      "source": [
        "from google.colab import files\n",
        "data_to_load = files.upload()"
      ]
    },
    {
      "cell_type": "code",
      "source": [
        "!pip install idx2numpy"
      ],
      "metadata": {
        "colab": {
          "base_uri": "https://localhost:8080/"
        },
        "id": "urWTwcpUzFv1",
        "outputId": "040f5b95-482e-4839-a8f2-4077b0dc7215"
      },
      "execution_count": null,
      "outputs": [
        {
          "output_type": "stream",
          "name": "stdout",
          "text": [
            "Looking in indexes: https://pypi.org/simple, https://us-python.pkg.dev/colab-wheels/public/simple/\n",
            "Collecting idx2numpy\n",
            "  Downloading idx2numpy-1.2.3.tar.gz (6.8 kB)\n",
            "Requirement already satisfied: numpy in /usr/local/lib/python3.7/dist-packages (from idx2numpy) (1.21.6)\n",
            "Requirement already satisfied: six in /usr/local/lib/python3.7/dist-packages (from idx2numpy) (1.15.0)\n",
            "Building wheels for collected packages: idx2numpy\n",
            "  Building wheel for idx2numpy (setup.py) ... \u001b[?25l\u001b[?25hdone\n",
            "  Created wheel for idx2numpy: filename=idx2numpy-1.2.3-py3-none-any.whl size=7919 sha256=21be37190d3f7278521549efcf1aba511f6022a635d5d8e15d4df6b4ddaa516c\n",
            "  Stored in directory: /root/.cache/pip/wheels/1a/ce/ad/d5e95a35cfe34149aade5e500f2edd535c0566d79e9a8e1d8a\n",
            "Successfully built idx2numpy\n",
            "Installing collected packages: idx2numpy\n",
            "Successfully installed idx2numpy-1.2.3\n"
          ]
        }
      ]
    },
    {
      "cell_type": "markdown",
      "source": [
        "### Modules"
      ],
      "metadata": {
        "id": "xrCrENB5iVhX"
      }
    },
    {
      "cell_type": "code",
      "source": [
        "# data processing\n",
        "import idx2numpy\n",
        "import numpy as np \n",
        "import pandas as pd\n",
        "\n",
        "# data visualization\n",
        "import seaborn as sns\n",
        "import matplotlib.pyplot as plt\n",
        "import statsmodels.api as sms\n",
        "\n",
        "# machine learning\n",
        "from sklearn.model_selection import train_test_split\n",
        "from sklearn.linear_model import LogisticRegression, LinearRegression\n",
        "from sklearn.metrics import confusion_matrix\n",
        "\n",
        "import warnings\n",
        "warnings.filterwarnings(\"ignore\")\n",
        "%matplotlib inline"
      ],
      "metadata": {
        "id": "vGPO-oYcGRM6"
      },
      "execution_count": null,
      "outputs": []
    },
    {
      "cell_type": "markdown",
      "source": [
        "### Data Collection"
      ],
      "metadata": {
        "id": "OERLMeFFielU"
      }
    },
    {
      "cell_type": "code",
      "source": [
        "# Splitting data into train and test sets\n",
        "X_file = '/content/train-images.idx3-ubyte'\n",
        "y_file = '/content/train-labels.idx1-ubyte'\n",
        "\n",
        "X = idx2numpy.convert_from_file(X_file)\n",
        "y = idx2numpy.convert_from_file(y_file)\n",
        "\n",
        "print(X.shape, y.shape)\n",
        "print(np.unique(y))"
      ],
      "metadata": {
        "colab": {
          "base_uri": "https://localhost:8080/"
        },
        "id": "70Ahkx1X6Jt4",
        "outputId": "0b199032-4e2b-4bff-e26f-206651335faa"
      },
      "execution_count": null,
      "outputs": [
        {
          "output_type": "stream",
          "name": "stdout",
          "text": [
            "(60000, 28, 28) (60000,)\n",
            "[0 1 2 3 4 5 6 7 8 9]\n"
          ]
        }
      ]
    },
    {
      "cell_type": "markdown",
      "source": [
        "### Visualize Sample for Verification"
      ],
      "metadata": {
        "id": "4rX8scYDXjth"
      }
    },
    {
      "cell_type": "code",
      "source": [
        "# Double check that data is pre-loaded properly\n",
        "fig, ax = plt.subplots()\n",
        "ax.imshow(X[0], cmap='gray')"
      ],
      "metadata": {
        "colab": {
          "base_uri": "https://localhost:8080/",
          "height": 282
        },
        "id": "RQIaZMrmXj1C",
        "outputId": "80fbf2cc-0995-4117-ecae-4d0c6fee2969"
      },
      "execution_count": null,
      "outputs": [
        {
          "output_type": "execute_result",
          "data": {
            "text/plain": [
              "<matplotlib.image.AxesImage at 0x7fbe40cd1390>"
            ]
          },
          "metadata": {},
          "execution_count": 5
        },
        {
          "output_type": "display_data",
          "data": {
            "text/plain": [
              "<Figure size 432x288 with 1 Axes>"
            ],
            "image/png": "[encoded data removed]"
          },
          "metadata": {
            "needs_background": "light"
          }
        }
      ]
    },
    {
      "cell_type": "markdown",
      "source": [
        "# <center> **Part 1** <center/>\n",
        "In this section, I will be coding a least-squares binary classifier for the handwritten MNIST digit dataset. Based on my digit of interest, this classifier will determine whether an image, $x$, is the digit $2$ or not.\n",
        "<br>\n",
        "<br/>\n",
        "This model will include two parameters, the intercept $\\beta_0$ and slope $\\beta$, that will help build our classifier. If an image is recognized as the target, then it will be labeled as $1$, and $-1$ otherwise, as such:\n",
        "\n",
        "<center>$\\begin{equation}\n",
        "y_i = \n",
        "\\left\\{\n",
        "    \\begin{array}{lr}\n",
        "        1: \\beta_0+\\beta_i^T x_i \\geq 0\\\\\n",
        "        -1: \\beta_0+\\beta_i^T x_i < 0\n",
        "    \\end{array}\n",
        "\\right\\}\n",
        "\\end{equation}$ <center/>"
      ],
      "metadata": {
        "id": "mdMGsIizInoz"
      }
    },
    {
      "cell_type": "markdown",
      "source": [
        "Now, we can design our least-squares function as the following which uses the residual sum of squares (RSS) technique:\n",
        "<center> $\\text{argmin}_{\\beta} = \\sum^N_{i=0} (y_i - \\beta_i^T x_i)^2$ <center/>"
      ],
      "metadata": {
        "id": "AoZ3k1pNnrZB"
      }
    },
    {
      "cell_type": "markdown",
      "source": [
        "Where $N$ represents the number of data points in our set, and that we want to minimize the residual error with respect to the weighted components. From here, we can perform some linear algebra operations to arrive at the well-known normal equation:\n",
        "<center> $\\beta_i = (x_i^Tx_i)^{-1}x_i^Ty_i $ <center/>"
      ],
      "metadata": {
        "id": "iQ16kwqBpnlV"
      }
    },
    {
      "cell_type": "markdown",
      "source": [
        "And with this, we can estimate our intercept and coefficient to build the classifier in the next section of this part."
      ],
      "metadata": {
        "id": "WV7_KESKsQDh"
      }
    },
    {
      "cell_type": "markdown",
      "source": [
        "Firstly, I will extract the indices of all digits with label $2$, and similarly for digits other than $2$, then I will sample both datasets into equally-split training and testing sets."
      ],
      "metadata": {
        "id": "hKP1rCR2kK7N"
      }
    },
    {
      "cell_type": "code",
      "source": [
        "# Function returns numpy binary label array\n",
        "# 1 indicates correct_digit, -1 indicates otherwise\n",
        "def convert_y_to_binary(y, correct_digit):\n",
        "    return np.where(y == correct_digit,\n",
        "                    np.ones_like(y, dtype=np.int8),\n",
        "                    -1 * np.ones_like(y)).reshape(y.size, 1)\n",
        "\n",
        "# Execute function on y data\n",
        "y_2 = convert_y_to_binary(y, 2)\n",
        "\n",
        "print('y Shape After Label Encoding', y_2.shape)  # should retain same # of observations, but just one column"
      ],
      "metadata": {
        "id": "NZS_MRMHIpDA",
        "colab": {
          "base_uri": "https://localhost:8080/"
        },
        "outputId": "6ea279f9-da1a-41b0-bca8-28e09ebbf11b"
      },
      "execution_count": null,
      "outputs": [
        {
          "output_type": "stream",
          "name": "stdout",
          "text": [
            "y Shape After Label Encoding (60000, 1)\n"
          ]
        }
      ]
    },
    {
      "cell_type": "markdown",
      "source": [
        "This extraction step is needed to properly distinguish the labels between the digit of interest and all other digits. That way when the digit is recognized correctly, it will display as $1$, and $-1$ otherwise. Furthermore, this is how the classifier will predict the correct digit."
      ],
      "metadata": {
        "id": "7tgVW93YWPzD"
      }
    },
    {
      "cell_type": "code",
      "source": [
        "# Train/Test split into equal sizes\n",
        "# Make sure to see this code block\n",
        "X_train, X_test, y_train, y_test = train_test_split(X, y_2, test_size=0.5, random_state=1)  # default setting performs random splitting\n",
        "\n",
        "y_test = y_test.squeeze()\n",
        "y_train = y_train.squeeze()\n",
        "\n",
        "print('Training Shape (X, y):', X_train.shape, y_train.shape)\n",
        "print('Testing Shape (X, y)', X_test.shape, y_test.shape)"
      ],
      "metadata": {
        "id": "8vAMwnGzd37v",
        "colab": {
          "base_uri": "https://localhost:8080/"
        },
        "outputId": "20119a9c-9107-4d31-def2-e403a98dc4de"
      },
      "execution_count": null,
      "outputs": [
        {
          "output_type": "stream",
          "name": "stdout",
          "text": [
            "Training Shape (X, y): (30000, 28, 28) (30000,)\n",
            "Testing Shape (X, y) (30000, 28, 28) (30000,)\n"
          ]
        }
      ]
    },
    {
      "cell_type": "markdown",
      "source": [
        "Secondly, I will extract the coefficient $\\beta$ and intercept $\\beta_0$ attributes using sklearn's Linear Regression model."
      ],
      "metadata": {
        "id": "TWfDr8uFkvbx"
      }
    },
    {
      "cell_type": "code",
      "source": [
        "# Perform Linear Regression and Fit Model\n",
        "X_train = X_train.reshape(X_train.shape[0], 28*28)    # reshape into 2 dimensions for ml model\n",
        "X_test = X_test.reshape(X_test.shape[0], 28*28)\n",
        "\n",
        "model = sms.OLS(y_train, X_train).fit()\n",
        "beta = model.params\n",
        "beta_0 = model.params[0]\n",
        "\n",
        "# Visualize Beta as a 2D image -- 28x28 pixels\n",
        "beta = beta.reshape((28, 28))   # reshape back into image\n",
        "plt.imshow(beta)"
      ],
      "metadata": {
        "id": "juGikqHEkysj",
        "colab": {
          "base_uri": "https://localhost:8080/",
          "height": 282
        },
        "outputId": "315ca313-3694-459f-a7da-4e7d52975859"
      },
      "execution_count": null,
      "outputs": [
        {
          "output_type": "execute_result",
          "data": {
            "text/plain": [
              "<matplotlib.image.AxesImage at 0x7fbe407a7510>"
            ]
          },
          "metadata": {},
          "execution_count": 8
        },
        {
          "output_type": "display_data",
          "data": {
            "text/plain": [
              "<Figure size 432x288 with 1 Axes>"
            ],
            "image/png": "[encoded data removed]"
          },
          "metadata": {
            "needs_background": "light"
          }
        }
      ]
    },
    {
      "cell_type": "markdown",
      "source": [
        "Given the classifier model, I will examine the classification error rate for the train and test sets represented as:\n",
        "<center> $\\text{class error} = \\frac{1}{N} \\sum^{N}_{i=0}(y_i \\ne \\hat{y_i}) $ <center/>"
      ],
      "metadata": {
        "id": "c7pDakb21Ajr"
      }
    },
    {
      "cell_type": "code",
      "source": [
        "# Classifier\n",
        "def classifier(narray):\n",
        "  narray[narray>=0e-5] = 1\n",
        "  narray[narray<0e-5] = -1\n",
        "  return narray\n",
        "\n",
        "# Classification Error Rate\n",
        "y_predictions = model.predict(X_test)\n",
        "y_pred_sub = y_predictions.copy()   # create for future use\n",
        "y_predictions_train = model.predict(X_train)\n",
        "\n",
        "# Classify Predictions Based on Sign\n",
        "y_predictions = classifier(y_predictions)\n",
        "y_predictions_train = classifier(y_predictions_train)\n",
        "\n",
        "# Compute Rate\n",
        "train_class_error_rate = np.abs(np.mean(y_train - y_predictions_train))\n",
        "test_class_error_rate = np.abs(np.mean(y_test - y_predictions))\n",
        "\n",
        "class_error_df = pd.DataFrame({'Classification Train Rate': train_class_error_rate, 'Classification Test Rate': test_class_error_rate}, index=[1])\n",
        "\n",
        "class_error_df"
      ],
      "metadata": {
        "id": "Y6_mYr1B1ihK",
        "colab": {
          "base_uri": "https://localhost:8080/",
          "height": 81
        },
        "outputId": "08db9444-5307-4593-9ac2-e3be6c5fff0c"
      },
      "execution_count": null,
      "outputs": [
        {
          "output_type": "execute_result",
          "data": {
            "text/plain": [
              "   Classification Train Rate  Classification Test Rate\n",
              "1                   0.048733                  0.050333"
            ],
            "text/html": [
              "\n",
              "  <div id=\"df-fe7aec9d-a027-429c-9a71-4173c1ca2f90\">\n",
              "    <div class=\"colab-df-container\">\n",
              "      <div>\n",
              "<style scoped>\n",
              "    .dataframe tbody tr th:only-of-type {\n",
              "        vertical-align: middle;\n",
              "    }\n",
              "\n",
              "    .dataframe tbody tr th {\n",
              "        vertical-align: top;\n",
              "    }\n",
              "\n",
              "    .dataframe thead th {\n",
              "        text-align: right;\n",
              "    }\n",
              "</style>\n",
              "<table border=\"1\" class=\"dataframe\">\n",
              "  <thead>\n",
              "    <tr style=\"text-align: right;\">\n",
              "      <th></th>\n",
              "      <th>Classification Train Rate</th>\n",
              "      <th>Classification Test Rate</th>\n",
              "    </tr>\n",
              "  </thead>\n",
              "  <tbody>\n",
              "    <tr>\n",
              "      <th>1</th>\n",
              "      <td>0.048733</td>\n",
              "      <td>0.050333</td>\n",
              "    </tr>\n",
              "  </tbody>\n",
              "</table>\n",
              "</div>\n",
              "      <button class=\"colab-df-convert\" onclick=\"convertToInteractive('df-fe7aec9d-a027-429c-9a71-4173c1ca2f90')\"\n",
              "              title=\"Convert this dataframe to an interactive table.\"\n",
              "              style=\"display:none;\">\n",
              "        \n",
              "  <svg xmlns=\"http://www.w3.org/2000/svg\" height=\"24px\"viewBox=\"0 0 24 24\"\n",
              "       width=\"24px\">\n",
              "    <path d=\"M0 0h24v24H0V0z\" fill=\"none\"/>\n",
              "    <path d=\"M18.56 5.44l.94 2.06.94-2.06 2.06-.94-2.06-.94-.94-2.06-.94 2.06-2.06.94zm-11 1L8.5 8.5l.94-2.06 2.06-.94-2.06-.94L8.5 2.5l-.94 2.06-2.06.94zm10 10l.94 2.06.94-2.06 2.06-.94-2.06-.94-.94-2.06-.94 2.06-2.06.94z\"/><path d=\"M17.41 7.96l-1.37-1.37c-.4-.4-.92-.59-1.43-.59-.52 0-1.04.2-1.43.59L10.3 9.45l-7.72 7.72c-.78.78-.78 2.05 0 2.83L4 21.41c.39.39.9.59 1.41.59.51 0 1.02-.2 1.41-.59l7.78-7.78 2.81-2.81c.8-.78.8-2.07 0-2.86zM5.41 20L4 18.59l7.72-7.72 1.47 1.35L5.41 20z\"/>\n",
              "  </svg>\n",
              "      </button>\n",
              "      \n",
              "  <style>\n",
              "    .colab-df-container {\n",
              "      display:flex;\n",
              "      flex-wrap:wrap;\n",
              "      gap: 12px;\n",
              "    }\n",
              "\n",
              "    .colab-df-convert {\n",
              "      background-color: #E8F0FE;\n",
              "      border: none;\n",
              "      border-radius: 50%;\n",
              "      cursor: pointer;\n",
              "      display: none;\n",
              "      fill: #1967D2;\n",
              "      height: 32px;\n",
              "      padding: 0 0 0 0;\n",
              "      width: 32px;\n",
              "    }\n",
              "\n",
              "    .colab-df-convert:hover {\n",
              "      background-color: #E2EBFA;\n",
              "      box-shadow: 0px 1px 2px rgba(60, 64, 67, 0.3), 0px 1px 3px 1px rgba(60, 64, 67, 0.15);\n",
              "      fill: #174EA6;\n",
              "    }\n",
              "\n",
              "    [theme=dark] .colab-df-convert {\n",
              "      background-color: #3B4455;\n",
              "      fill: #D2E3FC;\n",
              "    }\n",
              "\n",
              "    [theme=dark] .colab-df-convert:hover {\n",
              "      background-color: #434B5C;\n",
              "      box-shadow: 0px 1px 3px 1px rgba(0, 0, 0, 0.15);\n",
              "      filter: drop-shadow(0px 1px 2px rgba(0, 0, 0, 0.3));\n",
              "      fill: #FFFFFF;\n",
              "    }\n",
              "  </style>\n",
              "\n",
              "      <script>\n",
              "        const buttonEl =\n",
              "          document.querySelector('#df-fe7aec9d-a027-429c-9a71-4173c1ca2f90 button.colab-df-convert');\n",
              "        buttonEl.style.display =\n",
              "          google.colab.kernel.accessAllowed ? 'block' : 'none';\n",
              "\n",
              "        async function convertToInteractive(key) {\n",
              "          const element = document.querySelector('#df-fe7aec9d-a027-429c-9a71-4173c1ca2f90');\n",
              "          const dataTable =\n",
              "            await google.colab.kernel.invokeFunction('convertToInteractive',\n",
              "                                                     [key], {});\n",
              "          if (!dataTable) return;\n",
              "\n",
              "          const docLinkHtml = 'Like what you see? Visit the ' +\n",
              "            '<a target=\"_blank\" href=https://colab.research.google.com/notebooks/data_table.ipynb>data table notebook</a>'\n",
              "            + ' to learn more about interactive tables.';\n",
              "          element.innerHTML = '';\n",
              "          dataTable['output_type'] = 'display_data';\n",
              "          await google.colab.output.renderOutput(dataTable, element);\n",
              "          const docLink = document.createElement('div');\n",
              "          docLink.innerHTML = docLinkHtml;\n",
              "          element.appendChild(docLink);\n",
              "        }\n",
              "      </script>\n",
              "    </div>\n",
              "  </div>\n",
              "  "
            ]
          },
          "metadata": {},
          "execution_count": 9
        }
      ]
    },
    {
      "cell_type": "markdown",
      "source": [
        "Similarly to the train and test sets, I will also compute a confusion matrix to better evaluate the binary classifier model."
      ],
      "metadata": {
        "id": "6TTX10jglRVd"
      }
    },
    {
      "cell_type": "code",
      "source": [
        "# Confusion Matrix\n",
        "fig, axs = plt.subplots(ncols=2, figsize=(16, 6))\n",
        "\n",
        "# Training\n",
        "confusion_train = confusion_matrix(y_train, y_predictions)\n",
        "sns.heatmap((confusion_train/np.sum(confusion_train)), fmt='.2%', annot=True, cmap='Blues', ax=axs[0])\n",
        "\n",
        "axs[0].set_xlabel('Predicted')\n",
        "axs[0].set_ylabel('Train')\n",
        "axs[0].set_title('Train Confusion Matrix')\n",
        "axs[0].xaxis.set_ticklabels(['False','True'])\n",
        "axs[0].yaxis.set_ticklabels(['False','True'])\n",
        "\n",
        "\n",
        "# Testing\n",
        "confusion_test = confusion_matrix(y_test, y_predictions)\n",
        "sns.heatmap((confusion_test/np.sum(confusion_test)), fmt='.2%', annot=True, cmap='Blues', ax=axs[1])\n",
        "\n",
        "axs[1].set_xlabel('Predicted')\n",
        "axs[1].set_ylabel('Test')\n",
        "axs[1].set_title('Test Confusion Matrix')\n",
        "axs[1].xaxis.set_ticklabels(['False','True'])\n",
        "axs[1].yaxis.set_ticklabels(['False','True'])"
      ],
      "metadata": {
        "id": "IER_JyKvlRdG",
        "colab": {
          "base_uri": "https://localhost:8080/",
          "height": 421
        },
        "outputId": "c9da5662-2ae9-4bf9-885e-f37159029304"
      },
      "execution_count": null,
      "outputs": [
        {
          "output_type": "execute_result",
          "data": {
            "text/plain": [
              "[Text(0, 0.5, 'False'), Text(0, 1.5, 'True')]"
            ]
          },
          "metadata": {},
          "execution_count": 10
        },
        {
          "output_type": "display_data",
          "data": {
            "text/plain": [
              "<Figure size 1152x432 with 4 Axes>"
            ],
            "image/png": "[encoded data removed]"
          },
          "metadata": {
            "needs_background": "light"
          }
        }
      ]
    },
    {
      "cell_type": "markdown",
      "source": [
        "Finally, seeing how there are significant weights in the parameter vector, I will attempt to reduce the number of parameters by using the backward selection method. "
      ],
      "metadata": {
        "id": "BKtFBGWl2nMc"
      }
    },
    {
      "cell_type": "code",
      "source": [
        "# Backward Elimination for Feature Selection\n",
        "# Method: \n",
        "pvals = model.pvalues\n",
        "sig_pvals = pvals[pvals>0]    # eliminating pixels with value 0\n",
        "sig_pvals.shape\n",
        "\n",
        "#backward_elim = RFE(estimator=LinearRegression(), n_features_to_select=50).fit(X_train, y_train)\n",
        "\n",
        "# Visualize Beta for the reduced model\n",
        "#plt.imshow()"
      ],
      "metadata": {
        "id": "7acKyiQ_2nVV",
        "colab": {
          "base_uri": "https://localhost:8080/"
        },
        "outputId": "f4fb0eb4-7b1d-42f7-b287-3a688255a0b1"
      },
      "execution_count": null,
      "outputs": [
        {
          "output_type": "execute_result",
          "data": {
            "text/plain": [
              "(762,)"
            ]
          },
          "metadata": {},
          "execution_count": 11
        }
      ]
    },
    {
      "cell_type": "markdown",
      "source": [
        "Below is a series of diagnostic tests for the purpose of exploratory data analysis into the least-squares regression."
      ],
      "metadata": {
        "id": "lm-LpBtE3IAb"
      }
    },
    {
      "cell_type": "code",
      "source": [
        "# Subplots\n",
        "fig, axs = plt.subplots(2, 2, figsize=(16, 12))\n",
        "\n",
        "\n",
        "# Residuals vs Fitted\n",
        "residuals = model.resid\n",
        "sns.regplot(x=model.fittedvalues, y=residuals, lowess=True, line_kws={'color': 'red', 'lw': 1, 'alpha': 1}, ax=axs[0, 0])\n",
        "axs[0, 0].set_xlabel('Fitted')\n",
        "axs[0, 0].set_ylabel('Residuals')\n",
        "axs[0, 0].set_title('Residuals vs. Fitted')\n",
        "\n",
        "\n",
        "# Normal Q-Q Plot\n",
        "sms.qqplot(residuals, line='45', ax=axs[0, 1])\n",
        "axs[0, 1].set_ylabel('Residuals')\n",
        "axs[0, 1].set_title('Q-Q Plot')\n",
        "\n",
        "\n",
        "# Scale-Location\n",
        "norm_residuals = model.get_influence().resid_studentized_internal\n",
        "axs[1, 0].scatter(model.fittedvalues, norm_residuals)\n",
        "sns.regplot(y_pred_sub, norm_residuals, scatter=False, ci=False, lowess=True, line_kws={'color': 'red', 'lw': 1, 'alpha': 0.8}, ax=axs[1, 0])\n",
        "axs[1, 0].set_xlabel('Fitted')\n",
        "axs[1, 0].set_ylabel('Standardized Residuals')\n",
        "axs[1, 0].set_title('Scale Location')\n",
        "\n",
        "\n",
        "# Residuals vs. Leverage\n",
        "leverage = model.get_influence().hat_matrix_diag\n",
        "axs[1, 1].scatter(leverage, norm_residuals)\n",
        "sns.regplot(leverage, norm_residuals, scatter=False, ci=False, lowess=True, line_kws={'color': 'red', 'lw': 1, 'alpha': 0.8}, ax=axs[1, 1])\n",
        "axs[1, 1].set_xlabel('Leverage')\n",
        "axs[1, 1].set_ylabel('Standardized Residuals')\n",
        "axs[1, 1].set_title('Residuals vs. Leverage')\n",
        "\n",
        "\n",
        "# Show Plots\n",
        "plt.show()\n"
      ],
      "metadata": {
        "id": "dbRmf7Ue3IIX",
        "colab": {
          "base_uri": "https://localhost:8080/",
          "height": 730
        },
        "outputId": "28da18dd-b529-4913-e063-4875d959d7aa"
      },
      "execution_count": null,
      "outputs": [
        {
          "output_type": "display_data",
          "data": {
            "text/plain": [
              "<Figure size 1152x864 with 4 Axes>"
            ],
            "image/png": "[encoded data removed]"
          },
          "metadata": {
            "needs_background": "light"
          }
        }
      ]
    },
    {
      "cell_type": "markdown",
      "source": [
        "### Analysis: \n",
        "\n",
        "Make sure to say something here about the diagnostic plots."
      ],
      "metadata": {
        "id": "pl51kzg03jrO"
      }
    },
    {
      "cell_type": "markdown",
      "source": [
        "# <center> **Part 2** <center/>"
      ],
      "metadata": {
        "id": "CMUCNU9k1jii"
      }
    },
    {
      "cell_type": "markdown",
      "source": [
        "In this part, I will set the training and testing sets for each digit and compute the classification error rate for each. Additionally, I will be storing the restulting rates into a triangular matrix, where the training error rates will be displayed upper triangle, and the testing rates in the lower triangle portions."
      ],
      "metadata": {
        "id": "OXNci3IpujQy"
      }
    },
    {
      "cell_type": "code",
      "source": [
        "# Create list of lists where each list contains n digits\n",
        "y_digits = np.array([])\n",
        "\n",
        "y0 = y[y==0]\n",
        "y1 = y[y==1]\n",
        "y2 = y[y==2]\n",
        "y3 = y[y==3]\n",
        "y4 = y[y==4]\n",
        "y5 = y[y==5]\n",
        "y6 = y[y==6]\n",
        "y7 = y[y==7]\n",
        "y8 = y[y==8]\n",
        "y9 = y[y==9]\n",
        "\n",
        "y_digits = np.append(y_digits, [y0, y1, y2, y3, y4, y5, y6, y7, y8, y9])\n",
        "\n",
        "\n",
        "# Function returns fitted values of ols model\n",
        "# Input is X_train and y_train of given set\n",
        "def ols_predictor(X, y):\n",
        "  X_train, X_test, y_train, y_test = train_test_split(X, y, test_size=0.5, random_state=1)\n",
        "  y_train, y_test = y_train.squeeze(), y_test.squeeze()\n",
        "  X_train, X_test = X_train.reshape(X_train.shape[0], 28*28), X_test.reshape(X_test.shape[0], 28*28)\n",
        "  model = sms.OLS(y_train, X_train).fit()\n",
        "  y_pred_train = model.predict(X_train)\n",
        "  y_pred_test = model.predict(X_test)\n",
        "  return y_pred_train, y_pred_test\n",
        "\n",
        "\n",
        "# Function returns classification error rate\n",
        "# Inputs are two arrays: fittedvalues and actual values\n",
        "def class_error_funct(estimates, actual):\n",
        "  # Pass through classifier function\n",
        "  estimates = classifier(estimates)\n",
        "  # Compute error rate\n",
        "  error_rate = np.abs(np.mean(actual - estimates))\n",
        "  return error_rate\n",
        "\n",
        "\n",
        "# Extract indices to create mask for images dataset\n",
        "indices = [[] for x in range(10)]\n",
        "for i in range(y.shape[0]):\n",
        "  for j in range(10):\n",
        "    if (y[i] == j):\n",
        "      indices[j].append(i)\n",
        "indices = np.array(indices, dtype='object')\n",
        "\n",
        "\n",
        "# Mask for Images Data\n",
        "masked_X = [[] for x in range(10)]\n",
        "for i in range(10):\n",
        "  masked_X[i].append(X[indices[i]])\n",
        "\n",
        "# Function returns triangular matrix of classification error ratese\n",
        "# upper triangle represents the training error rates\n",
        "# lower triangle represents the testing error rates\n",
        "# diaganol entries are NA\n",
        "def triang_error_mat(matrix, X, y, y_digits, masked_X):\n",
        "  for i in range(10):\n",
        "    for j in range(10):\n",
        "      if (i==j):\n",
        "        triangular_class_error_matrix[i][j] = 'NA'\n",
        "      elif (i < j):   # upper triangle\n",
        "        # Join both images dataset for digit vs digit\n",
        "        X = np.concatenate((masked_X[i][0], masked_X[j][0]), axis=0)\n",
        "        # combine digit vs digit to perform regression\n",
        "        y = np.concatenate((y_digits[i], y_digits[j]))\n",
        "        y = convert_y_to_binary(y, i)\n",
        "        y_pred_train, y_pred_test = ols_predictor(X, y)\n",
        "        # pass train values through class error rate function\n",
        "        train_error_rate = class_error_funct(y_pred_train, y)\n",
        "        # append value into i,j slot\n",
        "        triangular_class_error_matrix[i].insert(j, train_error_rate)\n",
        "      else:\n",
        "        # Join both images dataset for digit vs digit\n",
        "        X = np.concatenate((masked_X[i][0], masked_X[j][0]), axis=0)\n",
        "        # combine digit vs digit to perform regression\n",
        "        y = np.concatenate((y_digits[i], y_digits[j]))\n",
        "        y = convert_y_to_binary(y, i)\n",
        "        y_pred_train, y_pred_test = ols_predictor(X, y)\n",
        "        # pass train values through class error rate function\n",
        "        test_error_rate = class_error_funct(y_pred_test, y)\n",
        "        # append value into i,j slot\n",
        "        triangular_class_error_matrix[i].insert(j, test_error_rate)\n",
        "  return triangular_class_error_matrix\n",
        "\n",
        "\n",
        "# Print\n",
        "print('Verify Same Shapes for Corresponding Indices and Labels', len(indices[0]), y0.shape)"
      ],
      "metadata": {
        "colab": {
          "base_uri": "https://localhost:8080/"
        },
        "id": "r07J-KqIyqP1",
        "outputId": "78e03ce7-e906-4da0-ccb2-1c4803e23819"
      },
      "execution_count": null,
      "outputs": [
        {
          "output_type": "stream",
          "name": "stdout",
          "text": [
            "Verify Same Shapes for Corresponding Indices and Labels 5923 (5923,)\n"
          ]
        }
      ]
    },
    {
      "cell_type": "code",
      "source": [
        "# Create 10x10 matrix for triang error rate\n",
        "triangular_class_error_matrix = [[1]*10 for x in range(10)]\n",
        "triangular_class_error_matrix = triang_error_mat(triangular_class_error_matrix, X, y, y_digits, masked_X)\n",
        "\n",
        "# Convert data into DataFrame object\n",
        "triangular_df = pd.DataFrame(triangular_class_error_matrix)\n",
        "triangular_df = triangular_df.iloc[:, :10]\n",
        "\n",
        "print(triangular_df.shape)"
      ],
      "metadata": {
        "id": "T1SY28dZsI_h",
        "colab": {
          "base_uri": "https://localhost:8080/"
        },
        "outputId": "7285b5cb-3a04-420b-bc4a-80daa0621355"
      },
      "execution_count": null,
      "outputs": [
        {
          "output_type": "stream",
          "name": "stdout",
          "text": [
            "(10, 10)\n"
          ]
        }
      ]
    },
    {
      "cell_type": "markdown",
      "source": [
        "Classification Error Rate Triangluar Matrix of Training and Testing Data for All Digits"
      ],
      "metadata": {
        "id": "6lLA2hnv0-c5"
      }
    },
    {
      "cell_type": "code",
      "source": [
        "triangular_df.index.name = 'Digit'\n",
        "triangular_df"
      ],
      "metadata": {
        "id": "KHDbcsZGsAh3",
        "colab": {
          "base_uri": "https://localhost:8080/",
          "height": 394
        },
        "outputId": "05f6ff5a-4935-445f-fba3-dd41053f5a17"
      },
      "execution_count": null,
      "outputs": [
        {
          "output_type": "execute_result",
          "data": {
            "text/plain": [
              "              0         1         2         3         4         5         6  \\\n",
              "Digit                                                                         \n",
              "0            NA  0.013666  0.015236  0.016758  0.022866  0.016749  0.019679   \n",
              "1       0.00939        NA  0.004094  0.001783  0.006357   0.00254  0.006951   \n",
              "2      0.015065  0.005669        NA  0.007529  0.032203  0.013619  0.029303   \n",
              "3      0.014103  0.001635  0.012654        NA   0.01946   0.01437  0.017346   \n",
              "4      0.019633  0.009854  0.027797  0.020964        NA  0.010208  0.021769   \n",
              "5      0.008639  0.003051  0.003255  0.011946  0.004709        NA  0.023024   \n",
              "6      0.014102  0.010111  0.041765  0.023155  0.026531  0.044705        NA   \n",
              "7      0.005415  0.002232  0.001556  0.017586  0.009501  0.019339  0.005989   \n",
              "8      0.016477    0.0285  0.053261  0.026206   0.01753   0.00692  0.023195   \n",
              "9      0.016341  0.014896  0.028636  0.011093  0.026882  0.013193  0.019295   \n",
              "\n",
              "              7         8         9  \n",
              "Digit                                \n",
              "0      0.013292  0.023611   0.01533  \n",
              "1      0.005308  0.016603   0.00559  \n",
              "2      0.009411  0.040904  0.021418  \n",
              "3      0.015328  0.026874  0.006126  \n",
              "4      0.007189  0.013599  0.023326  \n",
              "5      0.015574   0.00692  0.007564  \n",
              "6      0.012398  0.026767  0.017445  \n",
              "7            NA  0.013041  0.026036  \n",
              "8       0.01271        NA  0.015424  \n",
              "9      0.025053  0.022542        NA  "
            ],
            "text/html": [
              "\n",
              "  <div id=\"df-afc38e33-a840-4c9c-93b4-7729e0be30e4\">\n",
              "    <div class=\"colab-df-container\">\n",
              "      <div>\n",
              "<style scoped>\n",
              "    .dataframe tbody tr th:only-of-type {\n",
              "        vertical-align: middle;\n",
              "    }\n",
              "\n",
              "    .dataframe tbody tr th {\n",
              "        vertical-align: top;\n",
              "    }\n",
              "\n",
              "    .dataframe thead th {\n",
              "        text-align: right;\n",
              "    }\n",
              "</style>\n",
              "<table border=\"1\" class=\"dataframe\">\n",
              "  <thead>\n",
              "    <tr style=\"text-align: right;\">\n",
              "      <th></th>\n",
              "      <th>0</th>\n",
              "      <th>1</th>\n",
              "      <th>2</th>\n",
              "      <th>3</th>\n",
              "      <th>4</th>\n",
              "      <th>5</th>\n",
              "      <th>6</th>\n",
              "      <th>7</th>\n",
              "      <th>8</th>\n",
              "      <th>9</th>\n",
              "    </tr>\n",
              "    <tr>\n",
              "      <th>Digit</th>\n",
              "      <th></th>\n",
              "      <th></th>\n",
              "      <th></th>\n",
              "      <th></th>\n",
              "      <th></th>\n",
              "      <th></th>\n",
              "      <th></th>\n",
              "      <th></th>\n",
              "      <th></th>\n",
              "      <th></th>\n",
              "    </tr>\n",
              "  </thead>\n",
              "  <tbody>\n",
              "    <tr>\n",
              "      <th>0</th>\n",
              "      <td>NA</td>\n",
              "      <td>0.013666</td>\n",
              "      <td>0.015236</td>\n",
              "      <td>0.016758</td>\n",
              "      <td>0.022866</td>\n",
              "      <td>0.016749</td>\n",
              "      <td>0.019679</td>\n",
              "      <td>0.013292</td>\n",
              "      <td>0.023611</td>\n",
              "      <td>0.01533</td>\n",
              "    </tr>\n",
              "    <tr>\n",
              "      <th>1</th>\n",
              "      <td>0.00939</td>\n",
              "      <td>NA</td>\n",
              "      <td>0.004094</td>\n",
              "      <td>0.001783</td>\n",
              "      <td>0.006357</td>\n",
              "      <td>0.00254</td>\n",
              "      <td>0.006951</td>\n",
              "      <td>0.005308</td>\n",
              "      <td>0.016603</td>\n",
              "      <td>0.00559</td>\n",
              "    </tr>\n",
              "    <tr>\n",
              "      <th>2</th>\n",
              "      <td>0.015065</td>\n",
              "      <td>0.005669</td>\n",
              "      <td>NA</td>\n",
              "      <td>0.007529</td>\n",
              "      <td>0.032203</td>\n",
              "      <td>0.013619</td>\n",
              "      <td>0.029303</td>\n",
              "      <td>0.009411</td>\n",
              "      <td>0.040904</td>\n",
              "      <td>0.021418</td>\n",
              "    </tr>\n",
              "    <tr>\n",
              "      <th>3</th>\n",
              "      <td>0.014103</td>\n",
              "      <td>0.001635</td>\n",
              "      <td>0.012654</td>\n",
              "      <td>NA</td>\n",
              "      <td>0.01946</td>\n",
              "      <td>0.01437</td>\n",
              "      <td>0.017346</td>\n",
              "      <td>0.015328</td>\n",
              "      <td>0.026874</td>\n",
              "      <td>0.006126</td>\n",
              "    </tr>\n",
              "    <tr>\n",
              "      <th>4</th>\n",
              "      <td>0.019633</td>\n",
              "      <td>0.009854</td>\n",
              "      <td>0.027797</td>\n",
              "      <td>0.020964</td>\n",
              "      <td>NA</td>\n",
              "      <td>0.010208</td>\n",
              "      <td>0.021769</td>\n",
              "      <td>0.007189</td>\n",
              "      <td>0.013599</td>\n",
              "      <td>0.023326</td>\n",
              "    </tr>\n",
              "    <tr>\n",
              "      <th>5</th>\n",
              "      <td>0.008639</td>\n",
              "      <td>0.003051</td>\n",
              "      <td>0.003255</td>\n",
              "      <td>0.011946</td>\n",
              "      <td>0.004709</td>\n",
              "      <td>NA</td>\n",
              "      <td>0.023024</td>\n",
              "      <td>0.015574</td>\n",
              "      <td>0.00692</td>\n",
              "      <td>0.007564</td>\n",
              "    </tr>\n",
              "    <tr>\n",
              "      <th>6</th>\n",
              "      <td>0.014102</td>\n",
              "      <td>0.010111</td>\n",
              "      <td>0.041765</td>\n",
              "      <td>0.023155</td>\n",
              "      <td>0.026531</td>\n",
              "      <td>0.044705</td>\n",
              "      <td>NA</td>\n",
              "      <td>0.012398</td>\n",
              "      <td>0.026767</td>\n",
              "      <td>0.017445</td>\n",
              "    </tr>\n",
              "    <tr>\n",
              "      <th>7</th>\n",
              "      <td>0.005415</td>\n",
              "      <td>0.002232</td>\n",
              "      <td>0.001556</td>\n",
              "      <td>0.017586</td>\n",
              "      <td>0.009501</td>\n",
              "      <td>0.019339</td>\n",
              "      <td>0.005989</td>\n",
              "      <td>NA</td>\n",
              "      <td>0.013041</td>\n",
              "      <td>0.026036</td>\n",
              "    </tr>\n",
              "    <tr>\n",
              "      <th>8</th>\n",
              "      <td>0.016477</td>\n",
              "      <td>0.0285</td>\n",
              "      <td>0.053261</td>\n",
              "      <td>0.026206</td>\n",
              "      <td>0.01753</td>\n",
              "      <td>0.00692</td>\n",
              "      <td>0.023195</td>\n",
              "      <td>0.01271</td>\n",
              "      <td>NA</td>\n",
              "      <td>0.015424</td>\n",
              "    </tr>\n",
              "    <tr>\n",
              "      <th>9</th>\n",
              "      <td>0.016341</td>\n",
              "      <td>0.014896</td>\n",
              "      <td>0.028636</td>\n",
              "      <td>0.011093</td>\n",
              "      <td>0.026882</td>\n",
              "      <td>0.013193</td>\n",
              "      <td>0.019295</td>\n",
              "      <td>0.025053</td>\n",
              "      <td>0.022542</td>\n",
              "      <td>NA</td>\n",
              "    </tr>\n",
              "  </tbody>\n",
              "</table>\n",
              "</div>\n",
              "      <button class=\"colab-df-convert\" onclick=\"convertToInteractive('df-afc38e33-a840-4c9c-93b4-7729e0be30e4')\"\n",
              "              title=\"Convert this dataframe to an interactive table.\"\n",
              "              style=\"display:none;\">\n",
              "        \n",
              "  <svg xmlns=\"http://www.w3.org/2000/svg\" height=\"24px\"viewBox=\"0 0 24 24\"\n",
              "       width=\"24px\">\n",
              "    <path d=\"M0 0h24v24H0V0z\" fill=\"none\"/>\n",
              "    <path d=\"M18.56 5.44l.94 2.06.94-2.06 2.06-.94-2.06-.94-.94-2.06-.94 2.06-2.06.94zm-11 1L8.5 8.5l.94-2.06 2.06-.94-2.06-.94L8.5 2.5l-.94 2.06-2.06.94zm10 10l.94 2.06.94-2.06 2.06-.94-2.06-.94-.94-2.06-.94 2.06-2.06.94z\"/><path d=\"M17.41 7.96l-1.37-1.37c-.4-.4-.92-.59-1.43-.59-.52 0-1.04.2-1.43.59L10.3 9.45l-7.72 7.72c-.78.78-.78 2.05 0 2.83L4 21.41c.39.39.9.59 1.41.59.51 0 1.02-.2 1.41-.59l7.78-7.78 2.81-2.81c.8-.78.8-2.07 0-2.86zM5.41 20L4 18.59l7.72-7.72 1.47 1.35L5.41 20z\"/>\n",
              "  </svg>\n",
              "      </button>\n",
              "      \n",
              "  <style>\n",
              "    .colab-df-container {\n",
              "      display:flex;\n",
              "      flex-wrap:wrap;\n",
              "      gap: 12px;\n",
              "    }\n",
              "\n",
              "    .colab-df-convert {\n",
              "      background-color: #E8F0FE;\n",
              "      border: none;\n",
              "      border-radius: 50%;\n",
              "      cursor: pointer;\n",
              "      display: none;\n",
              "      fill: #1967D2;\n",
              "      height: 32px;\n",
              "      padding: 0 0 0 0;\n",
              "      width: 32px;\n",
              "    }\n",
              "\n",
              "    .colab-df-convert:hover {\n",
              "      background-color: #E2EBFA;\n",
              "      box-shadow: 0px 1px 2px rgba(60, 64, 67, 0.3), 0px 1px 3px 1px rgba(60, 64, 67, 0.15);\n",
              "      fill: #174EA6;\n",
              "    }\n",
              "\n",
              "    [theme=dark] .colab-df-convert {\n",
              "      background-color: #3B4455;\n",
              "      fill: #D2E3FC;\n",
              "    }\n",
              "\n",
              "    [theme=dark] .colab-df-convert:hover {\n",
              "      background-color: #434B5C;\n",
              "      box-shadow: 0px 1px 3px 1px rgba(0, 0, 0, 0.15);\n",
              "      filter: drop-shadow(0px 1px 2px rgba(0, 0, 0, 0.3));\n",
              "      fill: #FFFFFF;\n",
              "    }\n",
              "  </style>\n",
              "\n",
              "      <script>\n",
              "        const buttonEl =\n",
              "          document.querySelector('#df-afc38e33-a840-4c9c-93b4-7729e0be30e4 button.colab-df-convert');\n",
              "        buttonEl.style.display =\n",
              "          google.colab.kernel.accessAllowed ? 'block' : 'none';\n",
              "\n",
              "        async function convertToInteractive(key) {\n",
              "          const element = document.querySelector('#df-afc38e33-a840-4c9c-93b4-7729e0be30e4');\n",
              "          const dataTable =\n",
              "            await google.colab.kernel.invokeFunction('convertToInteractive',\n",
              "                                                     [key], {});\n",
              "          if (!dataTable) return;\n",
              "\n",
              "          const docLinkHtml = 'Like what you see? Visit the ' +\n",
              "            '<a target=\"_blank\" href=https://colab.research.google.com/notebooks/data_table.ipynb>data table notebook</a>'\n",
              "            + ' to learn more about interactive tables.';\n",
              "          element.innerHTML = '';\n",
              "          dataTable['output_type'] = 'display_data';\n",
              "          await google.colab.output.renderOutput(dataTable, element);\n",
              "          const docLink = document.createElement('div');\n",
              "          docLink.innerHTML = docLinkHtml;\n",
              "          element.appendChild(docLink);\n",
              "        }\n",
              "      </script>\n",
              "    </div>\n",
              "  </div>\n",
              "  "
            ]
          },
          "metadata": {},
          "execution_count": 15
        }
      ]
    },
    {
      "cell_type": "markdown",
      "source": [
        "# <center> **Part 3** <center/>\n",
        "In this part, I will be executing the logistic regression model for the results discussed in *Part 1* and *Part 2*.\n",
        "<br> <br/>\n",
        "First, I will repreat *Part 1* while performing Logistic Regression instead of Linear."
      ],
      "metadata": {
        "id": "0xJuajAcNVil"
      }
    },
    {
      "cell_type": "code",
      "source": [
        "# Retrain/retest for new model\n",
        "X = idx2numpy.convert_from_file(X_file)\n",
        "X_train, X_test, y_train, y_test = train_test_split(X, y_2, test_size=0.5, random_state=5)\n",
        "X_train = X_train.reshape(X_train.shape[0], 28*28)\n",
        "X_test = X_test.reshape(X_test.shape[0], 28*28)\n",
        "\n",
        "# Perform logisitic regression and extract predictions on both train/test\n",
        "logistic_model = LogisticRegression().fit(X_train, y_train)\n",
        "logistic_y_train_pred = logistic_model.predict(X_train)   # train predictions\n",
        "logistic_y_test_pred = logistic_model.predict(X_test)     # test predictions\n",
        "beta = logistic_model.coef_\n",
        "\n",
        "# Run fitted values through classifier function\n",
        "logistic_train_error_2 = np.abs(np.mean(y_2 - logistic_y_train_pred))\n",
        "logistic_test_error_2 = np.abs(np.mean(y_2 - logistic_y_test_pred))\n",
        "logistic_error_2_df = pd.DataFrame({'Classification Train Rate': logistic_train_error_2, 'Classification Test Rate': logistic_test_error_2}, index=[1])\n",
        "\n",
        "\n",
        "logistic_error_2_df   # Digit = 2"
      ],
      "metadata": {
        "id": "tr2l5jZfNVmo",
        "colab": {
          "base_uri": "https://localhost:8080/",
          "height": 81
        },
        "outputId": "9610526f-5c3e-47d7-9090-33b0a0774aca"
      },
      "execution_count": null,
      "outputs": [
        {
          "output_type": "execute_result",
          "data": {
            "text/plain": [
              "   Classification Train Rate  Classification Test Rate\n",
              "1                   0.008067                    0.0136"
            ],
            "text/html": [
              "\n",
              "  <div id=\"df-ac4e30f9-cf58-414b-9ada-e9ce6cd252dd\">\n",
              "    <div class=\"colab-df-container\">\n",
              "      <div>\n",
              "<style scoped>\n",
              "    .dataframe tbody tr th:only-of-type {\n",
              "        vertical-align: middle;\n",
              "    }\n",
              "\n",
              "    .dataframe tbody tr th {\n",
              "        vertical-align: top;\n",
              "    }\n",
              "\n",
              "    .dataframe thead th {\n",
              "        text-align: right;\n",
              "    }\n",
              "</style>\n",
              "<table border=\"1\" class=\"dataframe\">\n",
              "  <thead>\n",
              "    <tr style=\"text-align: right;\">\n",
              "      <th></th>\n",
              "      <th>Classification Train Rate</th>\n",
              "      <th>Classification Test Rate</th>\n",
              "    </tr>\n",
              "  </thead>\n",
              "  <tbody>\n",
              "    <tr>\n",
              "      <th>1</th>\n",
              "      <td>0.008067</td>\n",
              "      <td>0.0136</td>\n",
              "    </tr>\n",
              "  </tbody>\n",
              "</table>\n",
              "</div>\n",
              "      <button class=\"colab-df-convert\" onclick=\"convertToInteractive('df-ac4e30f9-cf58-414b-9ada-e9ce6cd252dd')\"\n",
              "              title=\"Convert this dataframe to an interactive table.\"\n",
              "              style=\"display:none;\">\n",
              "        \n",
              "  <svg xmlns=\"http://www.w3.org/2000/svg\" height=\"24px\"viewBox=\"0 0 24 24\"\n",
              "       width=\"24px\">\n",
              "    <path d=\"M0 0h24v24H0V0z\" fill=\"none\"/>\n",
              "    <path d=\"M18.56 5.44l.94 2.06.94-2.06 2.06-.94-2.06-.94-.94-2.06-.94 2.06-2.06.94zm-11 1L8.5 8.5l.94-2.06 2.06-.94-2.06-.94L8.5 2.5l-.94 2.06-2.06.94zm10 10l.94 2.06.94-2.06 2.06-.94-2.06-.94-.94-2.06-.94 2.06-2.06.94z\"/><path d=\"M17.41 7.96l-1.37-1.37c-.4-.4-.92-.59-1.43-.59-.52 0-1.04.2-1.43.59L10.3 9.45l-7.72 7.72c-.78.78-.78 2.05 0 2.83L4 21.41c.39.39.9.59 1.41.59.51 0 1.02-.2 1.41-.59l7.78-7.78 2.81-2.81c.8-.78.8-2.07 0-2.86zM5.41 20L4 18.59l7.72-7.72 1.47 1.35L5.41 20z\"/>\n",
              "  </svg>\n",
              "      </button>\n",
              "      \n",
              "  <style>\n",
              "    .colab-df-container {\n",
              "      display:flex;\n",
              "      flex-wrap:wrap;\n",
              "      gap: 12px;\n",
              "    }\n",
              "\n",
              "    .colab-df-convert {\n",
              "      background-color: #E8F0FE;\n",
              "      border: none;\n",
              "      border-radius: 50%;\n",
              "      cursor: pointer;\n",
              "      display: none;\n",
              "      fill: #1967D2;\n",
              "      height: 32px;\n",
              "      padding: 0 0 0 0;\n",
              "      width: 32px;\n",
              "    }\n",
              "\n",
              "    .colab-df-convert:hover {\n",
              "      background-color: #E2EBFA;\n",
              "      box-shadow: 0px 1px 2px rgba(60, 64, 67, 0.3), 0px 1px 3px 1px rgba(60, 64, 67, 0.15);\n",
              "      fill: #174EA6;\n",
              "    }\n",
              "\n",
              "    [theme=dark] .colab-df-convert {\n",
              "      background-color: #3B4455;\n",
              "      fill: #D2E3FC;\n",
              "    }\n",
              "\n",
              "    [theme=dark] .colab-df-convert:hover {\n",
              "      background-color: #434B5C;\n",
              "      box-shadow: 0px 1px 3px 1px rgba(0, 0, 0, 0.15);\n",
              "      filter: drop-shadow(0px 1px 2px rgba(0, 0, 0, 0.3));\n",
              "      fill: #FFFFFF;\n",
              "    }\n",
              "  </style>\n",
              "\n",
              "      <script>\n",
              "        const buttonEl =\n",
              "          document.querySelector('#df-ac4e30f9-cf58-414b-9ada-e9ce6cd252dd button.colab-df-convert');\n",
              "        buttonEl.style.display =\n",
              "          google.colab.kernel.accessAllowed ? 'block' : 'none';\n",
              "\n",
              "        async function convertToInteractive(key) {\n",
              "          const element = document.querySelector('#df-ac4e30f9-cf58-414b-9ada-e9ce6cd252dd');\n",
              "          const dataTable =\n",
              "            await google.colab.kernel.invokeFunction('convertToInteractive',\n",
              "                                                     [key], {});\n",
              "          if (!dataTable) return;\n",
              "\n",
              "          const docLinkHtml = 'Like what you see? Visit the ' +\n",
              "            '<a target=\"_blank\" href=https://colab.research.google.com/notebooks/data_table.ipynb>data table notebook</a>'\n",
              "            + ' to learn more about interactive tables.';\n",
              "          element.innerHTML = '';\n",
              "          dataTable['output_type'] = 'display_data';\n",
              "          await google.colab.output.renderOutput(dataTable, element);\n",
              "          const docLink = document.createElement('div');\n",
              "          docLink.innerHTML = docLinkHtml;\n",
              "          element.appendChild(docLink);\n",
              "        }\n",
              "      </script>\n",
              "    </div>\n",
              "  </div>\n",
              "  "
            ]
          },
          "metadata": {},
          "execution_count": 16
        }
      ]
    },
    {
      "cell_type": "markdown",
      "source": [
        "Now, to repeat *Part 2* with logistic regression as well."
      ],
      "metadata": {
        "id": "b1qC4J9Xhytg"
      }
    },
    {
      "cell_type": "code",
      "source": [
        "# Function returns fitted values of logistic regression\n",
        "# similar to ols_predictor, but only different model\n",
        "def logistic_predictor(X, y):\n",
        "  X_train, X_test, y_train, y_test = train_test_split(X, y, test_size=0.5, random_state=1)\n",
        "  y_train, y_test = y_train.squeeze(), y_test.squeeze()\n",
        "  X_train, X_test = X_train.reshape(X_train.shape[0], 28*28), X_test.reshape(X_test.shape[0], 28*28)\n",
        "  model = LogisticRegression().fit(X_train, y_train)    # apply logistic instead of linear\n",
        "  y_pred_train = model.predict(X_train)\n",
        "  y_pred_test = model.predict(X_test)\n",
        "  return y_pred_train, y_pred_test\n",
        "\n",
        "triangular_logistic_error_matrix = [[1]*10 for x in range(10)]\n",
        "triangular_logistic_error_matrix = triang_error_mat(triangular_logistic_error_matrix, X, y, y_digits, masked_X)\n",
        "\n",
        "# Convert data into DataFrame object\n",
        "triangular_logistic_df = pd.DataFrame(triangular_logistic_error_matrix)\n",
        "triangular_logistic_df = triangular_logistic_df.iloc[:, :10]\n",
        "\n",
        "print(triangular_logistic_df.shape)"
      ],
      "metadata": {
        "colab": {
          "base_uri": "https://localhost:8080/"
        },
        "id": "HCDWb6lbhy1n",
        "outputId": "b7d2318f-2619-47c9-e916-60284e82ea6a"
      },
      "execution_count": null,
      "outputs": [
        {
          "output_type": "stream",
          "name": "stdout",
          "text": [
            "(10, 10)\n"
          ]
        }
      ]
    },
    {
      "cell_type": "code",
      "source": [
        "triangular_logistic_df.index.name = 'Digit'\n",
        "triangular_logistic_df"
      ],
      "metadata": {
        "colab": {
          "base_uri": "https://localhost:8080/",
          "height": 394
        },
        "id": "q8vTw0uHnaMt",
        "outputId": "b4e78b83-3a85-449c-b440-e91cc1ab005a"
      },
      "execution_count": null,
      "outputs": [
        {
          "output_type": "execute_result",
          "data": {
            "text/plain": [
              "              0         1         2         3         4         5         6  \\\n",
              "Digit                                                                         \n",
              "0            NA  0.013666  0.015236  0.016758  0.022866  0.016749  0.019679   \n",
              "1       0.00939        NA  0.004094  0.001783  0.006357   0.00254  0.006951   \n",
              "2      0.015065  0.005669        NA  0.007529  0.032203  0.013619  0.029303   \n",
              "3      0.014103  0.001635  0.012654        NA   0.01946   0.01437  0.017346   \n",
              "4      0.019633  0.009854  0.027797  0.020964        NA  0.010208  0.021769   \n",
              "5      0.008639  0.003051  0.003255  0.011946  0.004709        NA  0.023024   \n",
              "6      0.014102  0.010111  0.041765  0.023155  0.026531  0.044705        NA   \n",
              "7      0.005415  0.002232  0.001556  0.017586  0.009501  0.019339  0.005989   \n",
              "8      0.016477    0.0285  0.053261  0.026206   0.01753   0.00692  0.023195   \n",
              "9      0.016341  0.014896  0.028636  0.011093  0.026882  0.013193  0.019295   \n",
              "\n",
              "              7         8         9  \n",
              "Digit                                \n",
              "0      0.013292  0.023611   0.01533  \n",
              "1      0.005308  0.016603   0.00559  \n",
              "2      0.009411  0.040904  0.021418  \n",
              "3      0.015328  0.026874  0.006126  \n",
              "4      0.007189  0.013599  0.023326  \n",
              "5      0.015574   0.00692  0.007564  \n",
              "6      0.012398  0.026767  0.017445  \n",
              "7            NA  0.013041  0.026036  \n",
              "8       0.01271        NA  0.015424  \n",
              "9      0.025053  0.022542        NA  "
            ],
            "text/html": [
              "\n",
              "  <div id=\"df-84681a00-3905-409a-a3aa-72c35f5881ed\">\n",
              "    <div class=\"colab-df-container\">\n",
              "      <div>\n",
              "<style scoped>\n",
              "    .dataframe tbody tr th:only-of-type {\n",
              "        vertical-align: middle;\n",
              "    }\n",
              "\n",
              "    .dataframe tbody tr th {\n",
              "        vertical-align: top;\n",
              "    }\n",
              "\n",
              "    .dataframe thead th {\n",
              "        text-align: right;\n",
              "    }\n",
              "</style>\n",
              "<table border=\"1\" class=\"dataframe\">\n",
              "  <thead>\n",
              "    <tr style=\"text-align: right;\">\n",
              "      <th></th>\n",
              "      <th>0</th>\n",
              "      <th>1</th>\n",
              "      <th>2</th>\n",
              "      <th>3</th>\n",
              "      <th>4</th>\n",
              "      <th>5</th>\n",
              "      <th>6</th>\n",
              "      <th>7</th>\n",
              "      <th>8</th>\n",
              "      <th>9</th>\n",
              "    </tr>\n",
              "    <tr>\n",
              "      <th>Digit</th>\n",
              "      <th></th>\n",
              "      <th></th>\n",
              "      <th></th>\n",
              "      <th></th>\n",
              "      <th></th>\n",
              "      <th></th>\n",
              "      <th></th>\n",
              "      <th></th>\n",
              "      <th></th>\n",
              "      <th></th>\n",
              "    </tr>\n",
              "  </thead>\n",
              "  <tbody>\n",
              "    <tr>\n",
              "      <th>0</th>\n",
              "      <td>NA</td>\n",
              "      <td>0.013666</td>\n",
              "      <td>0.015236</td>\n",
              "      <td>0.016758</td>\n",
              "      <td>0.022866</td>\n",
              "      <td>0.016749</td>\n",
              "      <td>0.019679</td>\n",
              "      <td>0.013292</td>\n",
              "      <td>0.023611</td>\n",
              "      <td>0.01533</td>\n",
              "    </tr>\n",
              "    <tr>\n",
              "      <th>1</th>\n",
              "      <td>0.00939</td>\n",
              "      <td>NA</td>\n",
              "      <td>0.004094</td>\n",
              "      <td>0.001783</td>\n",
              "      <td>0.006357</td>\n",
              "      <td>0.00254</td>\n",
              "      <td>0.006951</td>\n",
              "      <td>0.005308</td>\n",
              "      <td>0.016603</td>\n",
              "      <td>0.00559</td>\n",
              "    </tr>\n",
              "    <tr>\n",
              "      <th>2</th>\n",
              "      <td>0.015065</td>\n",
              "      <td>0.005669</td>\n",
              "      <td>NA</td>\n",
              "      <td>0.007529</td>\n",
              "      <td>0.032203</td>\n",
              "      <td>0.013619</td>\n",
              "      <td>0.029303</td>\n",
              "      <td>0.009411</td>\n",
              "      <td>0.040904</td>\n",
              "      <td>0.021418</td>\n",
              "    </tr>\n",
              "    <tr>\n",
              "      <th>3</th>\n",
              "      <td>0.014103</td>\n",
              "      <td>0.001635</td>\n",
              "      <td>0.012654</td>\n",
              "      <td>NA</td>\n",
              "      <td>0.01946</td>\n",
              "      <td>0.01437</td>\n",
              "      <td>0.017346</td>\n",
              "      <td>0.015328</td>\n",
              "      <td>0.026874</td>\n",
              "      <td>0.006126</td>\n",
              "    </tr>\n",
              "    <tr>\n",
              "      <th>4</th>\n",
              "      <td>0.019633</td>\n",
              "      <td>0.009854</td>\n",
              "      <td>0.027797</td>\n",
              "      <td>0.020964</td>\n",
              "      <td>NA</td>\n",
              "      <td>0.010208</td>\n",
              "      <td>0.021769</td>\n",
              "      <td>0.007189</td>\n",
              "      <td>0.013599</td>\n",
              "      <td>0.023326</td>\n",
              "    </tr>\n",
              "    <tr>\n",
              "      <th>5</th>\n",
              "      <td>0.008639</td>\n",
              "      <td>0.003051</td>\n",
              "      <td>0.003255</td>\n",
              "      <td>0.011946</td>\n",
              "      <td>0.004709</td>\n",
              "      <td>NA</td>\n",
              "      <td>0.023024</td>\n",
              "      <td>0.015574</td>\n",
              "      <td>0.00692</td>\n",
              "      <td>0.007564</td>\n",
              "    </tr>\n",
              "    <tr>\n",
              "      <th>6</th>\n",
              "      <td>0.014102</td>\n",
              "      <td>0.010111</td>\n",
              "      <td>0.041765</td>\n",
              "      <td>0.023155</td>\n",
              "      <td>0.026531</td>\n",
              "      <td>0.044705</td>\n",
              "      <td>NA</td>\n",
              "      <td>0.012398</td>\n",
              "      <td>0.026767</td>\n",
              "      <td>0.017445</td>\n",
              "    </tr>\n",
              "    <tr>\n",
              "      <th>7</th>\n",
              "      <td>0.005415</td>\n",
              "      <td>0.002232</td>\n",
              "      <td>0.001556</td>\n",
              "      <td>0.017586</td>\n",
              "      <td>0.009501</td>\n",
              "      <td>0.019339</td>\n",
              "      <td>0.005989</td>\n",
              "      <td>NA</td>\n",
              "      <td>0.013041</td>\n",
              "      <td>0.026036</td>\n",
              "    </tr>\n",
              "    <tr>\n",
              "      <th>8</th>\n",
              "      <td>0.016477</td>\n",
              "      <td>0.0285</td>\n",
              "      <td>0.053261</td>\n",
              "      <td>0.026206</td>\n",
              "      <td>0.01753</td>\n",
              "      <td>0.00692</td>\n",
              "      <td>0.023195</td>\n",
              "      <td>0.01271</td>\n",
              "      <td>NA</td>\n",
              "      <td>0.015424</td>\n",
              "    </tr>\n",
              "    <tr>\n",
              "      <th>9</th>\n",
              "      <td>0.016341</td>\n",
              "      <td>0.014896</td>\n",
              "      <td>0.028636</td>\n",
              "      <td>0.011093</td>\n",
              "      <td>0.026882</td>\n",
              "      <td>0.013193</td>\n",
              "      <td>0.019295</td>\n",
              "      <td>0.025053</td>\n",
              "      <td>0.022542</td>\n",
              "      <td>NA</td>\n",
              "    </tr>\n",
              "  </tbody>\n",
              "</table>\n",
              "</div>\n",
              "      <button class=\"colab-df-convert\" onclick=\"convertToInteractive('df-84681a00-3905-409a-a3aa-72c35f5881ed')\"\n",
              "              title=\"Convert this dataframe to an interactive table.\"\n",
              "              style=\"display:none;\">\n",
              "        \n",
              "  <svg xmlns=\"http://www.w3.org/2000/svg\" height=\"24px\"viewBox=\"0 0 24 24\"\n",
              "       width=\"24px\">\n",
              "    <path d=\"M0 0h24v24H0V0z\" fill=\"none\"/>\n",
              "    <path d=\"M18.56 5.44l.94 2.06.94-2.06 2.06-.94-2.06-.94-.94-2.06-.94 2.06-2.06.94zm-11 1L8.5 8.5l.94-2.06 2.06-.94-2.06-.94L8.5 2.5l-.94 2.06-2.06.94zm10 10l.94 2.06.94-2.06 2.06-.94-2.06-.94-.94-2.06-.94 2.06-2.06.94z\"/><path d=\"M17.41 7.96l-1.37-1.37c-.4-.4-.92-.59-1.43-.59-.52 0-1.04.2-1.43.59L10.3 9.45l-7.72 7.72c-.78.78-.78 2.05 0 2.83L4 21.41c.39.39.9.59 1.41.59.51 0 1.02-.2 1.41-.59l7.78-7.78 2.81-2.81c.8-.78.8-2.07 0-2.86zM5.41 20L4 18.59l7.72-7.72 1.47 1.35L5.41 20z\"/>\n",
              "  </svg>\n",
              "      </button>\n",
              "      \n",
              "  <style>\n",
              "    .colab-df-container {\n",
              "      display:flex;\n",
              "      flex-wrap:wrap;\n",
              "      gap: 12px;\n",
              "    }\n",
              "\n",
              "    .colab-df-convert {\n",
              "      background-color: #E8F0FE;\n",
              "      border: none;\n",
              "      border-radius: 50%;\n",
              "      cursor: pointer;\n",
              "      display: none;\n",
              "      fill: #1967D2;\n",
              "      height: 32px;\n",
              "      padding: 0 0 0 0;\n",
              "      width: 32px;\n",
              "    }\n",
              "\n",
              "    .colab-df-convert:hover {\n",
              "      background-color: #E2EBFA;\n",
              "      box-shadow: 0px 1px 2px rgba(60, 64, 67, 0.3), 0px 1px 3px 1px rgba(60, 64, 67, 0.15);\n",
              "      fill: #174EA6;\n",
              "    }\n",
              "\n",
              "    [theme=dark] .colab-df-convert {\n",
              "      background-color: #3B4455;\n",
              "      fill: #D2E3FC;\n",
              "    }\n",
              "\n",
              "    [theme=dark] .colab-df-convert:hover {\n",
              "      background-color: #434B5C;\n",
              "      box-shadow: 0px 1px 3px 1px rgba(0, 0, 0, 0.15);\n",
              "      filter: drop-shadow(0px 1px 2px rgba(0, 0, 0, 0.3));\n",
              "      fill: #FFFFFF;\n",
              "    }\n",
              "  </style>\n",
              "\n",
              "      <script>\n",
              "        const buttonEl =\n",
              "          document.querySelector('#df-84681a00-3905-409a-a3aa-72c35f5881ed button.colab-df-convert');\n",
              "        buttonEl.style.display =\n",
              "          google.colab.kernel.accessAllowed ? 'block' : 'none';\n",
              "\n",
              "        async function convertToInteractive(key) {\n",
              "          const element = document.querySelector('#df-84681a00-3905-409a-a3aa-72c35f5881ed');\n",
              "          const dataTable =\n",
              "            await google.colab.kernel.invokeFunction('convertToInteractive',\n",
              "                                                     [key], {});\n",
              "          if (!dataTable) return;\n",
              "\n",
              "          const docLinkHtml = 'Like what you see? Visit the ' +\n",
              "            '<a target=\"_blank\" href=https://colab.research.google.com/notebooks/data_table.ipynb>data table notebook</a>'\n",
              "            + ' to learn more about interactive tables.';\n",
              "          element.innerHTML = '';\n",
              "          dataTable['output_type'] = 'display_data';\n",
              "          await google.colab.output.renderOutput(dataTable, element);\n",
              "          const docLink = document.createElement('div');\n",
              "          docLink.innerHTML = docLinkHtml;\n",
              "          element.appendChild(docLink);\n",
              "        }\n",
              "      </script>\n",
              "    </div>\n",
              "  </div>\n",
              "  "
            ]
          },
          "metadata": {},
          "execution_count": 18
        }
      ]
    },
    {
      "cell_type": "markdown",
      "source": [
        "### Analysis:\n",
        "It can be seen by comparing the classification error rates between the both linear and logistic regression that logistic performs much better. <br>\n",
        "**Which digits vs. digits for each model outperformed the other?**"
      ],
      "metadata": {
        "id": "eXLDz-7upL-o"
      }
    },
    {
      "cell_type": "markdown",
      "source": [
        "# <center> **Part 4** <center/>"
      ],
      "metadata": {
        "id": "uB7Xyo0DbmbE"
      }
    },
    {
      "cell_type": "code",
      "source": [
        "# Cook's Distance\n",
        "# 10 groups for each digit to measure cook's distance\n",
        "# Digit vs non digit data - similar to y_2 from Part 1\n",
        "list_y_binary = [[] for x in range(10)]\n",
        "for i in range(10):\n",
        "  list_y_binary[i].append(convert_y_to_binary(y, i))\n",
        "\n",
        "def cooks_distance(X, y):\n",
        "  X_train, X_test, y_train, y_test = train_test_split(X, y, test_size=0.5, random_state=1)\n",
        "  model = sms.OLS(y_train, X_train).fit()\n",
        "  influence = model.get_influence()\n",
        "  cooks = influence.cooks_distance\n",
        "  return cooks\n",
        "\n",
        "# Return list of cooks distance for each digit vs non digit\n",
        "cooks_list = [[] for x in range(10)]\n",
        "for i in range(10):\n",
        "  cooks = cooks_distance(X, list_y_binary[i][0])\n",
        "  cooks_list[i].append(cooks)\n",
        "\n",
        "\n",
        "# Function returns cook's distance of a given digit's data set\n",
        "# Inputs are (1) X, (2) y\n",
        "\n",
        "\n",
        "print(len(list_y_binary[2][0]))\n",
        "print(len(cooks_list))"
      ],
      "metadata": {
        "id": "6BSJtf95NeE8",
        "colab": {
          "base_uri": "https://localhost:8080/",
          "height": 380
        },
        "outputId": "c495a502-9921-427e-c163-cdd33af75275"
      },
      "execution_count": null,
      "outputs": [
        {
          "output_type": "error",
          "ename": "ValueError",
          "evalue": "ignored",
          "traceback": [
            "\u001b[0;31m---------------------------------------------------------------------------\u001b[0m",
            "\u001b[0;31mValueError\u001b[0m                                Traceback (most recent call last)",
            "\u001b[0;32m<ipython-input-19-6af4e946184d>\u001b[0m in \u001b[0;36m<module>\u001b[0;34m\u001b[0m\n\u001b[1;32m     16\u001b[0m \u001b[0mcooks_list\u001b[0m \u001b[0;34m=\u001b[0m \u001b[0;34m[\u001b[0m\u001b[0;34m[\u001b[0m\u001b[0;34m]\u001b[0m \u001b[0;32mfor\u001b[0m \u001b[0mx\u001b[0m \u001b[0;32min\u001b[0m \u001b[0mrange\u001b[0m\u001b[0;34m(\u001b[0m\u001b[0;36m10\u001b[0m\u001b[0;34m)\u001b[0m\u001b[0;34m]\u001b[0m\u001b[0;34m\u001b[0m\u001b[0;34m\u001b[0m\u001b[0m\n\u001b[1;32m     17\u001b[0m \u001b[0;32mfor\u001b[0m \u001b[0mi\u001b[0m \u001b[0;32min\u001b[0m \u001b[0mrange\u001b[0m\u001b[0;34m(\u001b[0m\u001b[0;36m10\u001b[0m\u001b[0;34m)\u001b[0m\u001b[0;34m:\u001b[0m\u001b[0;34m\u001b[0m\u001b[0;34m\u001b[0m\u001b[0m\n\u001b[0;32m---> 18\u001b[0;31m   \u001b[0mcooks\u001b[0m \u001b[0;34m=\u001b[0m \u001b[0mcooks_distance\u001b[0m\u001b[0;34m(\u001b[0m\u001b[0mX\u001b[0m\u001b[0;34m,\u001b[0m \u001b[0mlist_y_binary\u001b[0m\u001b[0;34m[\u001b[0m\u001b[0mi\u001b[0m\u001b[0;34m]\u001b[0m\u001b[0;34m[\u001b[0m\u001b[0;36m0\u001b[0m\u001b[0;34m]\u001b[0m\u001b[0;34m)\u001b[0m\u001b[0;34m\u001b[0m\u001b[0;34m\u001b[0m\u001b[0m\n\u001b[0m\u001b[1;32m     19\u001b[0m   \u001b[0mcooks_list\u001b[0m\u001b[0;34m[\u001b[0m\u001b[0mi\u001b[0m\u001b[0;34m]\u001b[0m\u001b[0;34m.\u001b[0m\u001b[0mappend\u001b[0m\u001b[0;34m(\u001b[0m\u001b[0mcooks\u001b[0m\u001b[0;34m)\u001b[0m\u001b[0;34m\u001b[0m\u001b[0;34m\u001b[0m\u001b[0m\n\u001b[1;32m     20\u001b[0m \u001b[0;34m\u001b[0m\u001b[0m\n",
            "\u001b[0;32m<ipython-input-19-6af4e946184d>\u001b[0m in \u001b[0;36mcooks_distance\u001b[0;34m(X, y)\u001b[0m\n\u001b[1;32m      8\u001b[0m \u001b[0;32mdef\u001b[0m \u001b[0mcooks_distance\u001b[0m\u001b[0;34m(\u001b[0m\u001b[0mX\u001b[0m\u001b[0;34m,\u001b[0m \u001b[0my\u001b[0m\u001b[0;34m)\u001b[0m\u001b[0;34m:\u001b[0m\u001b[0;34m\u001b[0m\u001b[0;34m\u001b[0m\u001b[0m\n\u001b[1;32m      9\u001b[0m   \u001b[0mX_train\u001b[0m\u001b[0;34m,\u001b[0m \u001b[0mX_test\u001b[0m\u001b[0;34m,\u001b[0m \u001b[0my_train\u001b[0m\u001b[0;34m,\u001b[0m \u001b[0my_test\u001b[0m \u001b[0;34m=\u001b[0m \u001b[0mtrain_test_split\u001b[0m\u001b[0;34m(\u001b[0m\u001b[0mX\u001b[0m\u001b[0;34m,\u001b[0m \u001b[0my\u001b[0m\u001b[0;34m,\u001b[0m \u001b[0mtest_size\u001b[0m\u001b[0;34m=\u001b[0m\u001b[0;36m0.5\u001b[0m\u001b[0;34m,\u001b[0m \u001b[0mrandom_state\u001b[0m\u001b[0;34m=\u001b[0m\u001b[0;36m1\u001b[0m\u001b[0;34m)\u001b[0m\u001b[0;34m\u001b[0m\u001b[0;34m\u001b[0m\u001b[0m\n\u001b[0;32m---> 10\u001b[0;31m   \u001b[0mmodel\u001b[0m \u001b[0;34m=\u001b[0m \u001b[0msms\u001b[0m\u001b[0;34m.\u001b[0m\u001b[0mOLS\u001b[0m\u001b[0;34m(\u001b[0m\u001b[0my_train\u001b[0m\u001b[0;34m,\u001b[0m \u001b[0mX_train\u001b[0m\u001b[0;34m)\u001b[0m\u001b[0;34m.\u001b[0m\u001b[0mfit\u001b[0m\u001b[0;34m(\u001b[0m\u001b[0;34m)\u001b[0m\u001b[0;34m\u001b[0m\u001b[0;34m\u001b[0m\u001b[0m\n\u001b[0m\u001b[1;32m     11\u001b[0m   \u001b[0minfluence\u001b[0m \u001b[0;34m=\u001b[0m \u001b[0mmodel\u001b[0m\u001b[0;34m.\u001b[0m\u001b[0mget_influence\u001b[0m\u001b[0;34m(\u001b[0m\u001b[0;34m)\u001b[0m\u001b[0;34m\u001b[0m\u001b[0;34m\u001b[0m\u001b[0m\n\u001b[1;32m     12\u001b[0m   \u001b[0mcooks\u001b[0m \u001b[0;34m=\u001b[0m \u001b[0minfluence\u001b[0m\u001b[0;34m.\u001b[0m\u001b[0mcooks_distance\u001b[0m\u001b[0;34m\u001b[0m\u001b[0;34m\u001b[0m\u001b[0m\n",
            "\u001b[0;32m/usr/local/lib/python3.7/dist-packages/statsmodels/regression/linear_model.py\u001b[0m in \u001b[0;36m__init__\u001b[0;34m(self, endog, exog, missing, hasconst, **kwargs)\u001b[0m\n\u001b[1;32m    871\u001b[0m                  **kwargs):\n\u001b[1;32m    872\u001b[0m         super(OLS, self).__init__(endog, exog, missing=missing,\n\u001b[0;32m--> 873\u001b[0;31m                                   hasconst=hasconst, **kwargs)\n\u001b[0m\u001b[1;32m    874\u001b[0m         \u001b[0;32mif\u001b[0m \u001b[0;34m\"weights\"\u001b[0m \u001b[0;32min\u001b[0m \u001b[0mself\u001b[0m\u001b[0;34m.\u001b[0m\u001b[0m_init_keys\u001b[0m\u001b[0;34m:\u001b[0m\u001b[0;34m\u001b[0m\u001b[0;34m\u001b[0m\u001b[0m\n\u001b[1;32m    875\u001b[0m             \u001b[0mself\u001b[0m\u001b[0;34m.\u001b[0m\u001b[0m_init_keys\u001b[0m\u001b[0;34m.\u001b[0m\u001b[0mremove\u001b[0m\u001b[0;34m(\u001b[0m\u001b[0;34m\"weights\"\u001b[0m\u001b[0;34m)\u001b[0m\u001b[0;34m\u001b[0m\u001b[0;34m\u001b[0m\u001b[0m\n",
            "\u001b[0;32m/usr/local/lib/python3.7/dist-packages/statsmodels/regression/linear_model.py\u001b[0m in \u001b[0;36m__init__\u001b[0;34m(self, endog, exog, weights, missing, hasconst, **kwargs)\u001b[0m\n\u001b[1;32m    702\u001b[0m             \u001b[0mweights\u001b[0m \u001b[0;34m=\u001b[0m \u001b[0mweights\u001b[0m\u001b[0;34m.\u001b[0m\u001b[0msqueeze\u001b[0m\u001b[0;34m(\u001b[0m\u001b[0;34m)\u001b[0m\u001b[0;34m\u001b[0m\u001b[0;34m\u001b[0m\u001b[0m\n\u001b[1;32m    703\u001b[0m         super(WLS, self).__init__(endog, exog, missing=missing,\n\u001b[0;32m--> 704\u001b[0;31m                                   weights=weights, hasconst=hasconst, **kwargs)\n\u001b[0m\u001b[1;32m    705\u001b[0m         \u001b[0mnobs\u001b[0m \u001b[0;34m=\u001b[0m \u001b[0mself\u001b[0m\u001b[0;34m.\u001b[0m\u001b[0mexog\u001b[0m\u001b[0;34m.\u001b[0m\u001b[0mshape\u001b[0m\u001b[0;34m[\u001b[0m\u001b[0;36m0\u001b[0m\u001b[0;34m]\u001b[0m\u001b[0;34m\u001b[0m\u001b[0;34m\u001b[0m\u001b[0m\n\u001b[1;32m    706\u001b[0m         \u001b[0mweights\u001b[0m \u001b[0;34m=\u001b[0m \u001b[0mself\u001b[0m\u001b[0;34m.\u001b[0m\u001b[0mweights\u001b[0m\u001b[0;34m\u001b[0m\u001b[0;34m\u001b[0m\u001b[0m\n",
            "\u001b[0;32m/usr/local/lib/python3.7/dist-packages/statsmodels/regression/linear_model.py\u001b[0m in \u001b[0;36m__init__\u001b[0;34m(self, endog, exog, **kwargs)\u001b[0m\n\u001b[1;32m    188\u001b[0m     \"\"\"\n\u001b[1;32m    189\u001b[0m     \u001b[0;32mdef\u001b[0m \u001b[0m__init__\u001b[0m\u001b[0;34m(\u001b[0m\u001b[0mself\u001b[0m\u001b[0;34m,\u001b[0m \u001b[0mendog\u001b[0m\u001b[0;34m,\u001b[0m \u001b[0mexog\u001b[0m\u001b[0;34m,\u001b[0m \u001b[0;34m**\u001b[0m\u001b[0mkwargs\u001b[0m\u001b[0;34m)\u001b[0m\u001b[0;34m:\u001b[0m\u001b[0;34m\u001b[0m\u001b[0;34m\u001b[0m\u001b[0m\n\u001b[0;32m--> 190\u001b[0;31m         \u001b[0msuper\u001b[0m\u001b[0;34m(\u001b[0m\u001b[0mRegressionModel\u001b[0m\u001b[0;34m,\u001b[0m \u001b[0mself\u001b[0m\u001b[0;34m)\u001b[0m\u001b[0;34m.\u001b[0m\u001b[0m__init__\u001b[0m\u001b[0;34m(\u001b[0m\u001b[0mendog\u001b[0m\u001b[0;34m,\u001b[0m \u001b[0mexog\u001b[0m\u001b[0;34m,\u001b[0m \u001b[0;34m**\u001b[0m\u001b[0mkwargs\u001b[0m\u001b[0;34m)\u001b[0m\u001b[0;34m\u001b[0m\u001b[0;34m\u001b[0m\u001b[0m\n\u001b[0m\u001b[1;32m    191\u001b[0m         \u001b[0mself\u001b[0m\u001b[0;34m.\u001b[0m\u001b[0m_data_attr\u001b[0m\u001b[0;34m.\u001b[0m\u001b[0mextend\u001b[0m\u001b[0;34m(\u001b[0m\u001b[0;34m[\u001b[0m\u001b[0;34m'pinv_wexog'\u001b[0m\u001b[0;34m,\u001b[0m \u001b[0;34m'weights'\u001b[0m\u001b[0;34m]\u001b[0m\u001b[0;34m)\u001b[0m\u001b[0;34m\u001b[0m\u001b[0;34m\u001b[0m\u001b[0m\n\u001b[1;32m    192\u001b[0m \u001b[0;34m\u001b[0m\u001b[0m\n",
            "\u001b[0;32m/usr/local/lib/python3.7/dist-packages/statsmodels/base/model.py\u001b[0m in \u001b[0;36m__init__\u001b[0;34m(self, endog, exog, **kwargs)\u001b[0m\n\u001b[1;32m    235\u001b[0m \u001b[0;34m\u001b[0m\u001b[0m\n\u001b[1;32m    236\u001b[0m     \u001b[0;32mdef\u001b[0m \u001b[0m__init__\u001b[0m\u001b[0;34m(\u001b[0m\u001b[0mself\u001b[0m\u001b[0;34m,\u001b[0m \u001b[0mendog\u001b[0m\u001b[0;34m,\u001b[0m \u001b[0mexog\u001b[0m\u001b[0;34m=\u001b[0m\u001b[0;32mNone\u001b[0m\u001b[0;34m,\u001b[0m \u001b[0;34m**\u001b[0m\u001b[0mkwargs\u001b[0m\u001b[0;34m)\u001b[0m\u001b[0;34m:\u001b[0m\u001b[0;34m\u001b[0m\u001b[0;34m\u001b[0m\u001b[0m\n\u001b[0;32m--> 237\u001b[0;31m         \u001b[0msuper\u001b[0m\u001b[0;34m(\u001b[0m\u001b[0mLikelihoodModel\u001b[0m\u001b[0;34m,\u001b[0m \u001b[0mself\u001b[0m\u001b[0;34m)\u001b[0m\u001b[0;34m.\u001b[0m\u001b[0m__init__\u001b[0m\u001b[0;34m(\u001b[0m\u001b[0mendog\u001b[0m\u001b[0;34m,\u001b[0m \u001b[0mexog\u001b[0m\u001b[0;34m,\u001b[0m \u001b[0;34m**\u001b[0m\u001b[0mkwargs\u001b[0m\u001b[0;34m)\u001b[0m\u001b[0;34m\u001b[0m\u001b[0;34m\u001b[0m\u001b[0m\n\u001b[0m\u001b[1;32m    238\u001b[0m         \u001b[0mself\u001b[0m\u001b[0;34m.\u001b[0m\u001b[0minitialize\u001b[0m\u001b[0;34m(\u001b[0m\u001b[0;34m)\u001b[0m\u001b[0;34m\u001b[0m\u001b[0;34m\u001b[0m\u001b[0m\n\u001b[1;32m    239\u001b[0m \u001b[0;34m\u001b[0m\u001b[0m\n",
            "\u001b[0;32m/usr/local/lib/python3.7/dist-packages/statsmodels/base/model.py\u001b[0m in \u001b[0;36m__init__\u001b[0;34m(self, endog, exog, **kwargs)\u001b[0m\n\u001b[1;32m     76\u001b[0m         \u001b[0mhasconst\u001b[0m \u001b[0;34m=\u001b[0m \u001b[0mkwargs\u001b[0m\u001b[0;34m.\u001b[0m\u001b[0mpop\u001b[0m\u001b[0;34m(\u001b[0m\u001b[0;34m'hasconst'\u001b[0m\u001b[0;34m,\u001b[0m \u001b[0;32mNone\u001b[0m\u001b[0;34m)\u001b[0m\u001b[0;34m\u001b[0m\u001b[0;34m\u001b[0m\u001b[0m\n\u001b[1;32m     77\u001b[0m         self.data = self._handle_data(endog, exog, missing, hasconst,\n\u001b[0;32m---> 78\u001b[0;31m                                       **kwargs)\n\u001b[0m\u001b[1;32m     79\u001b[0m         \u001b[0mself\u001b[0m\u001b[0;34m.\u001b[0m\u001b[0mk_constant\u001b[0m \u001b[0;34m=\u001b[0m \u001b[0mself\u001b[0m\u001b[0;34m.\u001b[0m\u001b[0mdata\u001b[0m\u001b[0;34m.\u001b[0m\u001b[0mk_constant\u001b[0m\u001b[0;34m\u001b[0m\u001b[0;34m\u001b[0m\u001b[0m\n\u001b[1;32m     80\u001b[0m         \u001b[0mself\u001b[0m\u001b[0;34m.\u001b[0m\u001b[0mexog\u001b[0m \u001b[0;34m=\u001b[0m \u001b[0mself\u001b[0m\u001b[0;34m.\u001b[0m\u001b[0mdata\u001b[0m\u001b[0;34m.\u001b[0m\u001b[0mexog\u001b[0m\u001b[0;34m\u001b[0m\u001b[0;34m\u001b[0m\u001b[0m\n",
            "\u001b[0;32m/usr/local/lib/python3.7/dist-packages/statsmodels/base/model.py\u001b[0m in \u001b[0;36m_handle_data\u001b[0;34m(self, endog, exog, missing, hasconst, **kwargs)\u001b[0m\n\u001b[1;32m     99\u001b[0m \u001b[0;34m\u001b[0m\u001b[0m\n\u001b[1;32m    100\u001b[0m     \u001b[0;32mdef\u001b[0m \u001b[0m_handle_data\u001b[0m\u001b[0;34m(\u001b[0m\u001b[0mself\u001b[0m\u001b[0;34m,\u001b[0m \u001b[0mendog\u001b[0m\u001b[0;34m,\u001b[0m \u001b[0mexog\u001b[0m\u001b[0;34m,\u001b[0m \u001b[0mmissing\u001b[0m\u001b[0;34m,\u001b[0m \u001b[0mhasconst\u001b[0m\u001b[0;34m,\u001b[0m \u001b[0;34m**\u001b[0m\u001b[0mkwargs\u001b[0m\u001b[0;34m)\u001b[0m\u001b[0;34m:\u001b[0m\u001b[0;34m\u001b[0m\u001b[0;34m\u001b[0m\u001b[0m\n\u001b[0;32m--> 101\u001b[0;31m         \u001b[0mdata\u001b[0m \u001b[0;34m=\u001b[0m \u001b[0mhandle_data\u001b[0m\u001b[0;34m(\u001b[0m\u001b[0mendog\u001b[0m\u001b[0;34m,\u001b[0m \u001b[0mexog\u001b[0m\u001b[0;34m,\u001b[0m \u001b[0mmissing\u001b[0m\u001b[0;34m,\u001b[0m \u001b[0mhasconst\u001b[0m\u001b[0;34m,\u001b[0m \u001b[0;34m**\u001b[0m\u001b[0mkwargs\u001b[0m\u001b[0;34m)\u001b[0m\u001b[0;34m\u001b[0m\u001b[0;34m\u001b[0m\u001b[0m\n\u001b[0m\u001b[1;32m    102\u001b[0m         \u001b[0;31m# kwargs arrays could have changed, easier to just attach here\u001b[0m\u001b[0;34m\u001b[0m\u001b[0;34m\u001b[0m\u001b[0;34m\u001b[0m\u001b[0m\n\u001b[1;32m    103\u001b[0m         \u001b[0;32mfor\u001b[0m \u001b[0mkey\u001b[0m \u001b[0;32min\u001b[0m \u001b[0mkwargs\u001b[0m\u001b[0;34m:\u001b[0m\u001b[0;34m\u001b[0m\u001b[0;34m\u001b[0m\u001b[0m\n",
            "\u001b[0;32m/usr/local/lib/python3.7/dist-packages/statsmodels/base/data.py\u001b[0m in \u001b[0;36mhandle_data\u001b[0;34m(endog, exog, missing, hasconst, **kwargs)\u001b[0m\n\u001b[1;32m    671\u001b[0m     \u001b[0mklass\u001b[0m \u001b[0;34m=\u001b[0m \u001b[0mhandle_data_class_factory\u001b[0m\u001b[0;34m(\u001b[0m\u001b[0mendog\u001b[0m\u001b[0;34m,\u001b[0m \u001b[0mexog\u001b[0m\u001b[0;34m)\u001b[0m\u001b[0;34m\u001b[0m\u001b[0;34m\u001b[0m\u001b[0m\n\u001b[1;32m    672\u001b[0m     return klass(endog, exog=exog, missing=missing, hasconst=hasconst,\n\u001b[0;32m--> 673\u001b[0;31m                  **kwargs)\n\u001b[0m",
            "\u001b[0;32m/usr/local/lib/python3.7/dist-packages/statsmodels/base/data.py\u001b[0m in \u001b[0;36m__init__\u001b[0;34m(self, endog, exog, missing, hasconst, **kwargs)\u001b[0m\n\u001b[1;32m     81\u001b[0m             \u001b[0mself\u001b[0m\u001b[0;34m.\u001b[0m\u001b[0morig_endog\u001b[0m \u001b[0;34m=\u001b[0m \u001b[0mendog\u001b[0m\u001b[0;34m\u001b[0m\u001b[0;34m\u001b[0m\u001b[0m\n\u001b[1;32m     82\u001b[0m             \u001b[0mself\u001b[0m\u001b[0;34m.\u001b[0m\u001b[0morig_exog\u001b[0m \u001b[0;34m=\u001b[0m \u001b[0mexog\u001b[0m\u001b[0;34m\u001b[0m\u001b[0;34m\u001b[0m\u001b[0m\n\u001b[0;32m---> 83\u001b[0;31m             \u001b[0mself\u001b[0m\u001b[0;34m.\u001b[0m\u001b[0mendog\u001b[0m\u001b[0;34m,\u001b[0m \u001b[0mself\u001b[0m\u001b[0;34m.\u001b[0m\u001b[0mexog\u001b[0m \u001b[0;34m=\u001b[0m \u001b[0mself\u001b[0m\u001b[0;34m.\u001b[0m\u001b[0m_convert_endog_exog\u001b[0m\u001b[0;34m(\u001b[0m\u001b[0mendog\u001b[0m\u001b[0;34m,\u001b[0m \u001b[0mexog\u001b[0m\u001b[0;34m)\u001b[0m\u001b[0;34m\u001b[0m\u001b[0;34m\u001b[0m\u001b[0m\n\u001b[0m\u001b[1;32m     84\u001b[0m \u001b[0;34m\u001b[0m\u001b[0m\n\u001b[1;32m     85\u001b[0m         \u001b[0mself\u001b[0m\u001b[0;34m.\u001b[0m\u001b[0mconst_idx\u001b[0m \u001b[0;34m=\u001b[0m \u001b[0;32mNone\u001b[0m\u001b[0;34m\u001b[0m\u001b[0;34m\u001b[0m\u001b[0m\n",
            "\u001b[0;32m/usr/local/lib/python3.7/dist-packages/statsmodels/base/data.py\u001b[0m in \u001b[0;36m_convert_endog_exog\u001b[0;34m(self, endog, exog)\u001b[0m\n\u001b[1;32m    324\u001b[0m                 \u001b[0mxarr\u001b[0m \u001b[0;34m=\u001b[0m \u001b[0mxarr\u001b[0m\u001b[0;34m[\u001b[0m\u001b[0;34m:\u001b[0m\u001b[0;34m,\u001b[0m \u001b[0;32mNone\u001b[0m\u001b[0;34m]\u001b[0m\u001b[0;34m\u001b[0m\u001b[0;34m\u001b[0m\u001b[0m\n\u001b[1;32m    325\u001b[0m             \u001b[0;32mif\u001b[0m \u001b[0mxarr\u001b[0m\u001b[0;34m.\u001b[0m\u001b[0mndim\u001b[0m \u001b[0;34m!=\u001b[0m \u001b[0;36m2\u001b[0m\u001b[0;34m:\u001b[0m\u001b[0;34m\u001b[0m\u001b[0;34m\u001b[0m\u001b[0m\n\u001b[0;32m--> 326\u001b[0;31m                 \u001b[0;32mraise\u001b[0m \u001b[0mValueError\u001b[0m\u001b[0;34m(\u001b[0m\u001b[0;34m\"exog is not 1d or 2d\"\u001b[0m\u001b[0;34m)\u001b[0m\u001b[0;34m\u001b[0m\u001b[0;34m\u001b[0m\u001b[0m\n\u001b[0m\u001b[1;32m    327\u001b[0m \u001b[0;34m\u001b[0m\u001b[0m\n\u001b[1;32m    328\u001b[0m         \u001b[0;32mreturn\u001b[0m \u001b[0myarr\u001b[0m\u001b[0;34m,\u001b[0m \u001b[0mxarr\u001b[0m\u001b[0;34m\u001b[0m\u001b[0;34m\u001b[0m\u001b[0m\n",
            "\u001b[0;31mValueError\u001b[0m: exog is not 1d or 2d"
          ]
        }
      ]
    },
    {
      "cell_type": "code",
      "source": [],
      "metadata": {
        "id": "ERKsAHYIeKjP"
      },
      "execution_count": null,
      "outputs": []
    }
  ]
}
